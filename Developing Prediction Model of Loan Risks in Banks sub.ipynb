{
 "cells": [
  {
   "cell_type": "markdown",
   "metadata": {},
   "source": [
    "                                        Developing Prediction Model of Loan Risks in Banks"
   ]
  },
  {
   "cell_type": "code",
   "execution_count": 123,
   "metadata": {},
   "outputs": [
    {
     "data": {
      "image/jpeg": "[encoded data removed]",
      "text/plain": [
       "<IPython.core.display.Image object>"
      ]
     },
     "execution_count": 123,
     "metadata": {},
     "output_type": "execute_result"
    }
   ],
   "source": [
    "from IPython.display import Image\n",
    "Image(filename='credit.jpg')"
   ]
  },
  {
   "cell_type": "code",
   "execution_count": 3,
   "metadata": {},
   "outputs": [],
   "source": [
    "# Connect to the working directory\n",
    "import os\n",
    "os.getcwd()\n",
    "os.chdir('C:/Users/Abin/Desktop/Imarticus Project')\n",
    "# import the required package and libraries\n",
    "import pandas as pd\n",
    "import numpy as np\n",
    "import matplotlib.pyplot as plt"
   ]
  },
  {
   "cell_type": "markdown",
   "metadata": {},
   "source": [
    "                                                        Data Sourcing"
   ]
  },
  {
   "cell_type": "code",
   "execution_count": 4,
   "metadata": {
    "scrolled": true
   },
   "outputs": [
    {
     "name": "stderr",
     "output_type": "stream",
     "text": [
      "D:\\Anaconda\\lib\\site-packages\\IPython\\core\\interactiveshell.py:2785: DtypeWarning: Columns (17,45,53) have mixed types. Specify dtype option on import or set low_memory=False.\n",
      "  interactivity=interactivity, compiler=compiler, result=result)\n"
     ]
    },
    {
     "data": {
      "text/html": [
       "<div>\n",
       "<style scoped>\n",
       "    .dataframe tbody tr th:only-of-type {\n",
       "        vertical-align: middle;\n",
       "    }\n",
       "\n",
       "    .dataframe tbody tr th {\n",
       "        vertical-align: top;\n",
       "    }\n",
       "\n",
       "    .dataframe thead th {\n",
       "        text-align: right;\n",
       "    }\n",
       "</style>\n",
       "<table border=\"1\" class=\"dataframe\">\n",
       "  <thead>\n",
       "    <tr style=\"text-align: right;\">\n",
       "      <th></th>\n",
       "      <th>id</th>\n",
       "      <th>member_id</th>\n",
       "      <th>loan_amnt</th>\n",
       "      <th>funded_amnt</th>\n",
       "      <th>funded_amnt_inv</th>\n",
       "      <th>term</th>\n",
       "      <th>int_rate</th>\n",
       "      <th>installment</th>\n",
       "      <th>grade</th>\n",
       "      <th>sub_grade</th>\n",
       "      <th>...</th>\n",
       "      <th>il_util</th>\n",
       "      <th>open_rv_12m</th>\n",
       "      <th>open_rv_24m</th>\n",
       "      <th>max_bal_bc</th>\n",
       "      <th>all_util</th>\n",
       "      <th>total_rev_hi_lim</th>\n",
       "      <th>inq_fi</th>\n",
       "      <th>total_cu_tl</th>\n",
       "      <th>inq_last_12m</th>\n",
       "      <th>default_ind</th>\n",
       "    </tr>\n",
       "  </thead>\n",
       "  <tbody>\n",
       "    <tr>\n",
       "      <th>0</th>\n",
       "      <td>1077501</td>\n",
       "      <td>1296599</td>\n",
       "      <td>5000</td>\n",
       "      <td>5000</td>\n",
       "      <td>4975.0</td>\n",
       "      <td>36 months</td>\n",
       "      <td>10.65</td>\n",
       "      <td>162.87</td>\n",
       "      <td>B</td>\n",
       "      <td>B2</td>\n",
       "      <td>...</td>\n",
       "      <td>NaN</td>\n",
       "      <td>NaN</td>\n",
       "      <td>NaN</td>\n",
       "      <td>NaN</td>\n",
       "      <td>NaN</td>\n",
       "      <td>NaN</td>\n",
       "      <td>NaN</td>\n",
       "      <td>NaN</td>\n",
       "      <td>NaN</td>\n",
       "      <td>0</td>\n",
       "    </tr>\n",
       "    <tr>\n",
       "      <th>1</th>\n",
       "      <td>1077430</td>\n",
       "      <td>1314167</td>\n",
       "      <td>2500</td>\n",
       "      <td>2500</td>\n",
       "      <td>2500.0</td>\n",
       "      <td>60 months</td>\n",
       "      <td>15.27</td>\n",
       "      <td>59.83</td>\n",
       "      <td>C</td>\n",
       "      <td>C4</td>\n",
       "      <td>...</td>\n",
       "      <td>NaN</td>\n",
       "      <td>NaN</td>\n",
       "      <td>NaN</td>\n",
       "      <td>NaN</td>\n",
       "      <td>NaN</td>\n",
       "      <td>NaN</td>\n",
       "      <td>NaN</td>\n",
       "      <td>NaN</td>\n",
       "      <td>NaN</td>\n",
       "      <td>1</td>\n",
       "    </tr>\n",
       "    <tr>\n",
       "      <th>2</th>\n",
       "      <td>1077175</td>\n",
       "      <td>1313524</td>\n",
       "      <td>2400</td>\n",
       "      <td>2400</td>\n",
       "      <td>2400.0</td>\n",
       "      <td>36 months</td>\n",
       "      <td>15.96</td>\n",
       "      <td>84.33</td>\n",
       "      <td>C</td>\n",
       "      <td>C5</td>\n",
       "      <td>...</td>\n",
       "      <td>NaN</td>\n",
       "      <td>NaN</td>\n",
       "      <td>NaN</td>\n",
       "      <td>NaN</td>\n",
       "      <td>NaN</td>\n",
       "      <td>NaN</td>\n",
       "      <td>NaN</td>\n",
       "      <td>NaN</td>\n",
       "      <td>NaN</td>\n",
       "      <td>0</td>\n",
       "    </tr>\n",
       "    <tr>\n",
       "      <th>3</th>\n",
       "      <td>1076863</td>\n",
       "      <td>1277178</td>\n",
       "      <td>10000</td>\n",
       "      <td>10000</td>\n",
       "      <td>10000.0</td>\n",
       "      <td>36 months</td>\n",
       "      <td>13.49</td>\n",
       "      <td>339.31</td>\n",
       "      <td>C</td>\n",
       "      <td>C1</td>\n",
       "      <td>...</td>\n",
       "      <td>NaN</td>\n",
       "      <td>NaN</td>\n",
       "      <td>NaN</td>\n",
       "      <td>NaN</td>\n",
       "      <td>NaN</td>\n",
       "      <td>NaN</td>\n",
       "      <td>NaN</td>\n",
       "      <td>NaN</td>\n",
       "      <td>NaN</td>\n",
       "      <td>0</td>\n",
       "    </tr>\n",
       "    <tr>\n",
       "      <th>4</th>\n",
       "      <td>1075358</td>\n",
       "      <td>1311748</td>\n",
       "      <td>3000</td>\n",
       "      <td>3000</td>\n",
       "      <td>3000.0</td>\n",
       "      <td>60 months</td>\n",
       "      <td>12.69</td>\n",
       "      <td>67.79</td>\n",
       "      <td>B</td>\n",
       "      <td>B5</td>\n",
       "      <td>...</td>\n",
       "      <td>NaN</td>\n",
       "      <td>NaN</td>\n",
       "      <td>NaN</td>\n",
       "      <td>NaN</td>\n",
       "      <td>NaN</td>\n",
       "      <td>NaN</td>\n",
       "      <td>NaN</td>\n",
       "      <td>NaN</td>\n",
       "      <td>NaN</td>\n",
       "      <td>0</td>\n",
       "    </tr>\n",
       "  </tbody>\n",
       "</table>\n",
       "<p>5 rows × 73 columns</p>\n",
       "</div>"
      ],
      "text/plain": [
       "        id  member_id  loan_amnt  funded_amnt  funded_amnt_inv        term  \\\n",
       "0  1077501    1296599       5000         5000           4975.0   36 months   \n",
       "1  1077430    1314167       2500         2500           2500.0   60 months   \n",
       "2  1077175    1313524       2400         2400           2400.0   36 months   \n",
       "3  1076863    1277178      10000        10000          10000.0   36 months   \n",
       "4  1075358    1311748       3000         3000           3000.0   60 months   \n",
       "\n",
       "   int_rate  installment grade sub_grade     ...     il_util open_rv_12m  \\\n",
       "0     10.65       162.87     B        B2     ...         NaN         NaN   \n",
       "1     15.27        59.83     C        C4     ...         NaN         NaN   \n",
       "2     15.96        84.33     C        C5     ...         NaN         NaN   \n",
       "3     13.49       339.31     C        C1     ...         NaN         NaN   \n",
       "4     12.69        67.79     B        B5     ...         NaN         NaN   \n",
       "\n",
       "  open_rv_24m  max_bal_bc all_util total_rev_hi_lim inq_fi total_cu_tl  \\\n",
       "0         NaN         NaN      NaN              NaN    NaN         NaN   \n",
       "1         NaN         NaN      NaN              NaN    NaN         NaN   \n",
       "2         NaN         NaN      NaN              NaN    NaN         NaN   \n",
       "3         NaN         NaN      NaN              NaN    NaN         NaN   \n",
       "4         NaN         NaN      NaN              NaN    NaN         NaN   \n",
       "\n",
       "  inq_last_12m default_ind  \n",
       "0          NaN           0  \n",
       "1          NaN           1  \n",
       "2          NaN           0  \n",
       "3          NaN           0  \n",
       "4          NaN           0  \n",
       "\n",
       "[5 rows x 73 columns]"
      ]
     },
     "execution_count": 4,
     "metadata": {},
     "output_type": "execute_result"
    }
   ],
   "source": [
    "# Import the fulldata\n",
    "fulldata=pd.read_csv('fulldata.csv')\n",
    "fulldata.head()"
   ]
  },
  {
   "cell_type": "code",
   "execution_count": 5,
   "metadata": {},
   "outputs": [
    {
     "data": {
      "text/plain": [
       "(855969, 73)"
      ]
     },
     "execution_count": 5,
     "metadata": {},
     "output_type": "execute_result"
    }
   ],
   "source": [
    "fulldata.shape"
   ]
  },
  {
   "cell_type": "code",
   "execution_count": 6,
   "metadata": {},
   "outputs": [
    {
     "data": {
      "text/plain": [
       "desc                           734157\n",
       "mths_since_last_delinq         439812\n",
       "mths_since_last_record         724785\n",
       "mths_since_last_major_derog    642830\n",
       "annual_inc_joint               855527\n",
       "dti_joint                      855529\n",
       "verification_status_joint      855527\n",
       "open_acc_6m                    842681\n",
       "open_il_6m                     842681\n",
       "open_il_12m                    842681\n",
       "open_il_24m                    842681\n",
       "mths_since_rcnt_il             843035\n",
       "total_bal_il                   842681\n",
       "il_util                        844360\n",
       "open_rv_12m                    842681\n",
       "open_rv_24m                    842681\n",
       "max_bal_bc                     842681\n",
       "all_util                       842681\n",
       "inq_fi                         842681\n",
       "total_cu_tl                    842681\n",
       "inq_last_12m                   842681\n",
       "dtype: int64"
      ]
     },
     "execution_count": 6,
     "metadata": {},
     "output_type": "execute_result"
    }
   ],
   "source": [
    "# Remove the column which has more than 30% of NA values\n",
    "NA_columns=fulldata.isnull().sum()\n",
    "NA_col_3P=NA_columns[NA_columns.values> 0.3*len(fulldata)]\n",
    "NA_col_3P"
   ]
  },
  {
   "cell_type": "markdown",
   "metadata": {},
   "source": [
    "                              Plot the column name against NA values"
   ]
  },
  {
   "cell_type": "code",
   "execution_count": 7,
   "metadata": {},
   "outputs": [
    {
     "data": {
      "image/png": "[encoded data removed]",
      "text/plain": [
       "<Figure size 1440x288 with 1 Axes>"
      ]
     },
     "metadata": {},
     "output_type": "display_data"
    }
   ],
   "source": [
    "%matplotlib inline\n",
    "plt.figure(figsize=(20,4))\n",
    "NA_col_3P.plot(kind='bar')\n",
    "plt.title('Features with more than 30 percent NA values')\n",
    "plt.show()"
   ]
  },
  {
   "cell_type": "markdown",
   "metadata": {},
   "source": [
    "                                           Data Cleaning"
   ]
  },
  {
   "cell_type": "code",
   "execution_count": 8,
   "metadata": {},
   "outputs": [],
   "source": [
    "# Remove the column with 30% of missing values\n",
    "to_drop_3P=NA_col_3P.index\n",
    "fulldata=fulldata.drop(to_drop_3P,axis=1)\n",
    "# Now dataset contains 855968 rows and 52 columns"
   ]
  },
  {
   "cell_type": "code",
   "execution_count": 11,
   "metadata": {},
   "outputs": [
    {
     "data": {
      "text/plain": [
       "id                            855969\n",
       "member_id                     855969\n",
       "loan_amnt                       1368\n",
       "funded_amnt                     1368\n",
       "funded_amnt_inv                 8818\n",
       "term                               2\n",
       "int_rate                         520\n",
       "installment                    67349\n",
       "grade                              7\n",
       "sub_grade                         35\n",
       "emp_title                     290909\n",
       "emp_length                        11\n",
       "home_ownership                     6\n",
       "annual_inc                     48163\n",
       "verification_status                3\n",
       "issue_d                          103\n",
       "pymnt_plan                         2\n",
       "purpose                           14\n",
       "title                          60946\n",
       "zip_code                         931\n",
       "addr_state                        51\n",
       "dti                             4074\n",
       "delinq_2yrs                       29\n",
       "earliest_cr_line                 697\n",
       "inq_last_6mths                     9\n",
       "open_acc                          77\n",
       "pub_rec                           31\n",
       "revol_bal                      72779\n",
       "revol_util                      1338\n",
       "total_acc                        134\n",
       "initial_list_status                2\n",
       "out_prncp                     236739\n",
       "out_prncp_inv                 254328\n",
       "total_pymnt                   494607\n",
       "total_pymnt_inv               494744\n",
       "total_rec_prncp               250385\n",
       "total_rec_int                 317683\n",
       "total_rec_late_fee              5386\n",
       "recoveries                     22627\n",
       "collection_recovery_fee        20529\n",
       "last_pymnt_d                      97\n",
       "last_pymnt_amnt               230321\n",
       "next_pymnt_d                       3\n",
       "last_credit_pull_d               102\n",
       "collections_12_mths_ex_med        12\n",
       "policy_code                        1\n",
       "application_type                   2\n",
       "acc_now_delinq                     8\n",
       "tot_coll_amt                   10138\n",
       "tot_cur_bal                   322286\n",
       "total_rev_hi_lim               20793\n",
       "default_ind                        2\n",
       "dtype: int64"
      ]
     },
     "execution_count": 11,
     "metadata": {},
     "output_type": "execute_result"
    }
   ],
   "source": [
    "fulldata.nunique()"
   ]
  },
  {
   "cell_type": "code",
   "execution_count": 12,
   "metadata": {},
   "outputs": [
    {
     "data": {
      "text/plain": [
       "0.0     844768\n",
       "1.0      10320\n",
       "2.0        709\n",
       "3.0         80\n",
       "4.0         22\n",
       "5.0          7\n",
       "6.0          2\n",
       "7.0          1\n",
       "16.0         1\n",
       "20.0         1\n",
       "14.0         1\n",
       "10.0         1\n",
       "Name: collections_12_mths_ex_med, dtype: int64"
      ]
     },
     "execution_count": 12,
     "metadata": {},
     "output_type": "execute_result"
    }
   ],
   "source": [
    "fulldata['collections_12_mths_ex_med'].value_counts()# Most of the value are 0\n"
   ]
  },
  {
   "cell_type": "code",
   "execution_count": 13,
   "metadata": {},
   "outputs": [
    {
     "data": {
      "text/plain": [
       "Teacher                                 12965\n",
       "Manager                                 10821\n",
       "Registered Nurse                         5341\n",
       "RN                                       5182\n",
       "Owner                                    5157\n",
       "Supervisor                               4792\n",
       "Sales                                    4051\n",
       "Project Manager                          3856\n",
       "Driver                                   3417\n",
       "Office Manager                           3404\n",
       "Director                                 3067\n",
       "General Manager                          3060\n",
       "manager                                  2994\n",
       "teacher                                  2820\n",
       "owner                                    2727\n",
       "Engineer                                 2574\n",
       "President                                2478\n",
       "driver                                   2319\n",
       "Vice President                           2283\n",
       "Attorney                                 2074\n",
       "Operations Manager                       1995\n",
       "Accountant                               1978\n",
       "Administrative Assistant                 1943\n",
       "Sales Manager                            1780\n",
       "Police Officer                           1668\n",
       "Account Manager                          1665\n",
       "sales                                    1651\n",
       "supervisor                               1611\n",
       "Executive Assistant                      1549\n",
       "Analyst                                  1494\n",
       "                                        ...  \n",
       "Sr Director of Finance                      1\n",
       "WPA, LLC                                    1\n",
       "Legal Servings Team Leader                  1\n",
       "Houseman Driver                             1\n",
       "Clinical Engineering Gen II                 1\n",
       "Graphics Producer                           1\n",
       "Sr. Director, Systems Support               1\n",
       "Amusement Industry, Inc.                    1\n",
       "STERILE PROCESSING TECHNITION               1\n",
       "Western Washington Fair                     1\n",
       "Women's health services                     1\n",
       "Assistant Directer of Transportation        1\n",
       "assistent manegement                        1\n",
       "ASSY                                        1\n",
       "Residential account ex                      1\n",
       "Health Practice Director                    1\n",
       "Manager Total Rewards                       1\n",
       "Meredith College                            1\n",
       "Sr. IT Support Tech                         1\n",
       "CCRS                                        1\n",
       "Senior Social Scientist                     1\n",
       "Pilates Instructor/Owner                    1\n",
       "Westlake City School District               1\n",
       "Charterer                                   1\n",
       "Maintain                                    1\n",
       "viking cafe                                 1\n",
       "Local Union 392                             1\n",
       "The Mitas Group                             1\n",
       "Private Security Officer                    1\n",
       "principal of school                         1\n",
       "Name: emp_title, Length: 290909, dtype: int64"
      ]
     },
     "execution_count": 13,
     "metadata": {},
     "output_type": "execute_result"
    }
   ],
   "source": [
    "fulldata['emp_title'].value_counts()"
   ]
  },
  {
   "cell_type": "code",
   "execution_count": 14,
   "metadata": {},
   "outputs": [
    {
     "data": {
      "text/plain": [
       "Debt consolidation                                         398089\n",
       "Credit card refinancing                                    159228\n",
       "Home improvement                                            38633\n",
       "Other                                                       30522\n",
       "Debt Consolidation                                          15469\n",
       "Major purchase                                              11519\n",
       "Medical expenses                                             6408\n",
       "Business                                                     6325\n",
       "Car financing                                                5372\n",
       "Consolidation                                                5266\n",
       "debt consolidation                                           4718\n",
       "Debt Consolidation Loan                                      3744\n",
       "Moving and relocation                                        3724\n",
       "Vacation                                                     3640\n",
       "Credit Card Consolidation                                    2326\n",
       "Home buying                                                  2229\n",
       "consolidation                                                2120\n",
       "Personal Loan                                                2057\n",
       "Consolidation Loan                                           1743\n",
       "Home Improvement                                             1736\n",
       "Credit Card Refinance                                        1442\n",
       "Credit Card Payoff                                           1364\n",
       "Consolidate                                                  1236\n",
       "Personal                                                     1141\n",
       "Loan                                                         1013\n",
       "Freedom                                                       787\n",
       "Credit Card Loan                                              776\n",
       "consolidate                                                   737\n",
       "personal                                                      736\n",
       "personal loan                                                 704\n",
       "                                                            ...  \n",
       "Home improvement projects                                       1\n",
       "Small Business start up consolidation                           1\n",
       "roof replacement loan                                           1\n",
       "home improvement/dental work                                    1\n",
       "Tahoe Wedding                                                   1\n",
       "H-Imprmts and Debt Consolidate                                  1\n",
       "High APR credit consolidation                                   1\n",
       "Debt Be Gone, Let Me Move On!                                   1\n",
       "Rental Repair                                                   1\n",
       "credit card crusher loan                                        1\n",
       "Consolidate II                                                  1\n",
       "Need 9K Loan, Annual Income 98K Verifiable                      1\n",
       "New Job = Paying Debt                                           1\n",
       "Big Credit Card Refi                                            1\n",
       "CC MONEY                                                        1\n",
       "Getting Out of Debt!!                                           1\n",
       "DanielsDefense                                                  1\n",
       "consolidation of credit                                         1\n",
       "College Grad needs loan to move into first apartment!!!         1\n",
       "GMC Typhoon Loan                                                1\n",
       "Overall Debt Consolidation - Short Term                         1\n",
       "lower interest rate than credit cards                           1\n",
       "Reduce Monthly expenses                                         1\n",
       "Unexpected Medical Bills                                        1\n",
       "Destroy Credit Card Loan                                        1\n",
       "Pay off GE, cap, upper iowa                                     1\n",
       "Hate Wellsfargo                                                 1\n",
       "PAY CREDIC CARDS                                                1\n",
       "Debit consilation                                               1\n",
       "rehab loan                                                      1\n",
       "Name: title, Length: 60946, dtype: int64"
      ]
     },
     "execution_count": 14,
     "metadata": {},
     "output_type": "execute_result"
    }
   ],
   "source": [
    "fulldata['title'].value_counts()"
   ]
  },
  {
   "cell_type": "code",
   "execution_count": 15,
   "metadata": {},
   "outputs": [
    {
     "data": {
      "text/plain": [
       "B3    54958\n",
       "B4    54116\n",
       "C1    51588\n",
       "C2    50457\n",
       "C3    48337\n",
       "B2    47589\n",
       "B5    47333\n",
       "C4    46941\n",
       "B1    44002\n",
       "A5    43957\n",
       "C5    39532\n",
       "D1    34667\n",
       "A4    33991\n",
       "D2    28385\n",
       "D3    25289\n",
       "D4    24253\n",
       "A3    23095\n",
       "A1    22516\n",
       "A2    22106\n",
       "D5    20208\n",
       "E1    17230\n",
       "E2    15994\n",
       "E3    13294\n",
       "E4    11011\n",
       "E5     8919\n",
       "F1     6702\n",
       "F2     4979\n",
       "F3     4099\n",
       "F4     3168\n",
       "F5     2380\n",
       "G1     1698\n",
       "G2     1259\n",
       "G3      877\n",
       "G4      570\n",
       "G5      469\n",
       "Name: sub_grade, dtype: int64"
      ]
     },
     "execution_count": 15,
     "metadata": {},
     "output_type": "execute_result"
    }
   ],
   "source": [
    "fulldata['sub_grade'].value_counts()"
   ]
  },
  {
   "cell_type": "code",
   "execution_count": 16,
   "metadata": {},
   "outputs": [
    {
     "data": {
      "text/plain": [
       "n    855964\n",
       "y         5\n",
       "Name: pymnt_plan, dtype: int64"
      ]
     },
     "execution_count": 16,
     "metadata": {},
     "output_type": "execute_result"
    }
   ],
   "source": [
    "fulldata['pymnt_plan'].value_counts()"
   ]
  },
  {
   "cell_type": "code",
   "execution_count": 17,
   "metadata": {},
   "outputs": [
    {
     "data": {
      "text/plain": [
       "INDIVIDUAL    855527\n",
       "JOINT            442\n",
       "Name: application_type, dtype: int64"
      ]
     },
     "execution_count": 17,
     "metadata": {},
     "output_type": "execute_result"
    }
   ],
   "source": [
    "fulldata['application_type'].value_counts()"
   ]
  },
  {
   "cell_type": "markdown",
   "metadata": {},
   "source": [
    "                                                    Unique Features"
   ]
  },
  {
   "cell_type": "markdown",
   "metadata": {},
   "source": [
    "We can remove emp_title as well because it has more than 280000 unique emp_title and around 6% NA values and imputing them or deleting rows from relevant data will lead to loss of data, hence, we will take out that column itself.\n",
    "\n",
    "title column can be removed because it is redundant with purpose column which has fewer categories.\n",
    "\n",
    " Sub-grade is redundant with grade, so we can remove it better\n",
    " \n",
    "pymnt_plan has 855964 no, application_type has 855527 individual level, So it won't explain anything\n",
    "\n",
    "most of the collections_12_mths_ex_med values are zero"
   ]
  },
  {
   "cell_type": "code",
   "execution_count": 18,
   "metadata": {},
   "outputs": [],
   "source": [
    "not_required_columns=['id','member_id','zip_code','collections_12_mths_ex_med','emp_title','title','policy_code','application_type','sub_grade','pymnt_plan']"
   ]
  },
  {
   "cell_type": "code",
   "execution_count": 19,
   "metadata": {},
   "outputs": [
    {
     "data": {
      "text/plain": [
       "(855969, 42)"
      ]
     },
     "execution_count": 19,
     "metadata": {},
     "output_type": "execute_result"
    }
   ],
   "source": [
    "fulldata=fulldata.drop(not_required_columns,axis=1)\n",
    "fulldata.shape"
   ]
  },
  {
   "cell_type": "markdown",
   "metadata": {},
   "source": [
    "                                    Variables which would not be present when we make decision"
   ]
  },
  {
   "cell_type": "markdown",
   "metadata": {},
   "source": [
    "Variables such as funded_amnt, funded_amnt_inv,out_prncp, out_prncp_inv, total_pymnt, total_pymnt_inv, total_rec_int, total_rec_late_fee, total_rec_prncp etc. are basically customer payment behaiviour parameters which will not be available during decision making."
   ]
  },
  {
   "cell_type": "code",
   "execution_count": 20,
   "metadata": {},
   "outputs": [
    {
     "data": {
      "text/plain": [
       "(855969, 27)"
      ]
     },
     "execution_count": 20,
     "metadata": {},
     "output_type": "execute_result"
    }
   ],
   "source": [
    "not_present_decision=['last_pymnt_d','last_credit_pull_d','funded_amnt','funded_amnt_inv','out_prncp','out_prncp_inv','total_pymnt_inv','total_pymnt','total_pymnt_inv','total_rec_prncp','total_rec_int','total_rec_late_fee','recoveries','collection_recovery_fee','last_pymnt_amnt','next_pymnt_d']\n",
    "fulldata=fulldata.drop(not_present_decision,axis=1)\n",
    "fulldata.shape"
   ]
  },
  {
   "cell_type": "code",
   "execution_count": 21,
   "metadata": {},
   "outputs": [],
   "source": [
    "# Read the saved csv file with 26 variables\n",
    "df=pd.read_csv('fullset.csv')"
   ]
  },
  {
   "cell_type": "code",
   "execution_count": 22,
   "metadata": {},
   "outputs": [
    {
     "data": {
      "text/plain": [
       "loan_amnt                int64\n",
       "term                    object\n",
       "int_rate               float64\n",
       "installment            float64\n",
       "grade                   object\n",
       "emp_length              object\n",
       "home_ownership          object\n",
       "annual_inc             float64\n",
       "verification_status     object\n",
       "issue_d                 object\n",
       "purpose                 object\n",
       "addr_state              object\n",
       "dti                    float64\n",
       "delinq_2yrs              int64\n",
       "earliest_cr_line        object\n",
       "inq_last_6mths           int64\n",
       "open_acc                 int64\n",
       "pub_rec                  int64\n",
       "revol_bal                int64\n",
       "revol_util             float64\n",
       "total_acc                int64\n",
       "initial_list_status     object\n",
       "tot_coll_amt           float64\n",
       "tot_cur_bal            float64\n",
       "total_rev_hi_lim       float64\n",
       "default_ind              int64\n",
       "dtype: object"
      ]
     },
     "execution_count": 22,
     "metadata": {},
     "output_type": "execute_result"
    }
   ],
   "source": [
    "df.dtypes"
   ]
  },
  {
   "cell_type": "code",
   "execution_count": 23,
   "metadata": {},
   "outputs": [],
   "source": [
    "# change the data types for few variables\n",
    "df['default_ind']=df['default_ind'].astype(object)\n",
    "df['delinq_2yrs']=df['delinq_2yrs'].astype(object)\n",
    "df['inq_last_6mths']=df['inq_last_6mths'].astype(object)\n",
    "df['pub_rec']=df['pub_rec'].astype(object)"
   ]
  },
  {
   "cell_type": "markdown",
   "metadata": {},
   "source": [
    "                                               Exploratory Data Analysis"
   ]
  },
  {
   "cell_type": "code",
   "execution_count": 119,
   "metadata": {},
   "outputs": [
    {
     "data": {
      "text/html": [
       "<div>\n",
       "<style scoped>\n",
       "    .dataframe tbody tr th:only-of-type {\n",
       "        vertical-align: middle;\n",
       "    }\n",
       "\n",
       "    .dataframe tbody tr th {\n",
       "        vertical-align: top;\n",
       "    }\n",
       "\n",
       "    .dataframe thead th {\n",
       "        text-align: right;\n",
       "    }\n",
       "</style>\n",
       "<table border=\"1\" class=\"dataframe\">\n",
       "  <thead>\n",
       "    <tr style=\"text-align: right;\">\n",
       "      <th></th>\n",
       "      <th>loan_amnt</th>\n",
       "      <th>int_rate</th>\n",
       "      <th>installment</th>\n",
       "      <th>emp_length</th>\n",
       "      <th>annual_inc</th>\n",
       "      <th>dti</th>\n",
       "      <th>open_acc</th>\n",
       "      <th>revol_bal</th>\n",
       "      <th>revol_util</th>\n",
       "      <th>total_acc</th>\n",
       "      <th>tot_coll_amt</th>\n",
       "      <th>tot_cur_bal</th>\n",
       "      <th>total_rev_hi_lim</th>\n",
       "      <th>earliest_year_duration</th>\n",
       "    </tr>\n",
       "  </thead>\n",
       "  <tbody>\n",
       "    <tr>\n",
       "      <th>loan_amnt</th>\n",
       "      <td>1.000000</td>\n",
       "      <td>0.142901</td>\n",
       "      <td>0.944871</td>\n",
       "      <td>0.105411</td>\n",
       "      <td>0.335214</td>\n",
       "      <td>0.020170</td>\n",
       "      <td>0.198904</td>\n",
       "      <td>0.337494</td>\n",
       "      <td>0.119618</td>\n",
       "      <td>0.222077</td>\n",
       "      <td>-0.004272</td>\n",
       "      <td>0.329152</td>\n",
       "      <td>0.312082</td>\n",
       "      <td>0.169843</td>\n",
       "    </tr>\n",
       "    <tr>\n",
       "      <th>int_rate</th>\n",
       "      <td>0.142901</td>\n",
       "      <td>1.000000</td>\n",
       "      <td>0.130391</td>\n",
       "      <td>0.010706</td>\n",
       "      <td>-0.073841</td>\n",
       "      <td>0.078439</td>\n",
       "      <td>-0.011122</td>\n",
       "      <td>-0.035364</td>\n",
       "      <td>0.271643</td>\n",
       "      <td>-0.039508</td>\n",
       "      <td>0.001130</td>\n",
       "      <td>-0.091416</td>\n",
       "      <td>-0.165529</td>\n",
       "      <td>-0.103962</td>\n",
       "    </tr>\n",
       "    <tr>\n",
       "      <th>installment</th>\n",
       "      <td>0.944871</td>\n",
       "      <td>0.130391</td>\n",
       "      <td>1.000000</td>\n",
       "      <td>0.089869</td>\n",
       "      <td>0.328583</td>\n",
       "      <td>0.013893</td>\n",
       "      <td>0.183797</td>\n",
       "      <td>0.320021</td>\n",
       "      <td>0.131901</td>\n",
       "      <td>0.199867</td>\n",
       "      <td>-0.003540</td>\n",
       "      <td>0.298380</td>\n",
       "      <td>0.286871</td>\n",
       "      <td>0.151243</td>\n",
       "    </tr>\n",
       "    <tr>\n",
       "      <th>emp_length</th>\n",
       "      <td>0.105411</td>\n",
       "      <td>0.010706</td>\n",
       "      <td>0.089869</td>\n",
       "      <td>1.000000</td>\n",
       "      <td>0.063689</td>\n",
       "      <td>0.043550</td>\n",
       "      <td>0.038506</td>\n",
       "      <td>0.087924</td>\n",
       "      <td>0.034679</td>\n",
       "      <td>0.102316</td>\n",
       "      <td>-0.000564</td>\n",
       "      <td>0.097374</td>\n",
       "      <td>0.076069</td>\n",
       "      <td>0.219415</td>\n",
       "    </tr>\n",
       "    <tr>\n",
       "      <th>annual_inc</th>\n",
       "      <td>0.335214</td>\n",
       "      <td>-0.073841</td>\n",
       "      <td>0.328583</td>\n",
       "      <td>0.063689</td>\n",
       "      <td>1.000000</td>\n",
       "      <td>-0.086815</td>\n",
       "      <td>0.139418</td>\n",
       "      <td>0.298570</td>\n",
       "      <td>0.036779</td>\n",
       "      <td>0.188636</td>\n",
       "      <td>0.001004</td>\n",
       "      <td>0.422622</td>\n",
       "      <td>0.271058</td>\n",
       "      <td>0.145599</td>\n",
       "    </tr>\n",
       "    <tr>\n",
       "      <th>dti</th>\n",
       "      <td>0.020170</td>\n",
       "      <td>0.078439</td>\n",
       "      <td>0.013893</td>\n",
       "      <td>0.043550</td>\n",
       "      <td>-0.086815</td>\n",
       "      <td>1.000000</td>\n",
       "      <td>0.142035</td>\n",
       "      <td>0.067101</td>\n",
       "      <td>0.086621</td>\n",
       "      <td>0.106237</td>\n",
       "      <td>-0.001995</td>\n",
       "      <td>-0.007129</td>\n",
       "      <td>0.032428</td>\n",
       "      <td>0.013409</td>\n",
       "    </tr>\n",
       "    <tr>\n",
       "      <th>open_acc</th>\n",
       "      <td>0.198904</td>\n",
       "      <td>-0.011122</td>\n",
       "      <td>0.183797</td>\n",
       "      <td>0.038506</td>\n",
       "      <td>0.139418</td>\n",
       "      <td>0.142035</td>\n",
       "      <td>1.000000</td>\n",
       "      <td>0.225833</td>\n",
       "      <td>-0.145024</td>\n",
       "      <td>0.694851</td>\n",
       "      <td>0.000070</td>\n",
       "      <td>0.244467</td>\n",
       "      <td>0.325176</td>\n",
       "      <td>0.128388</td>\n",
       "    </tr>\n",
       "    <tr>\n",
       "      <th>revol_bal</th>\n",
       "      <td>0.337494</td>\n",
       "      <td>-0.035364</td>\n",
       "      <td>0.320021</td>\n",
       "      <td>0.087924</td>\n",
       "      <td>0.298570</td>\n",
       "      <td>0.067101</td>\n",
       "      <td>0.225833</td>\n",
       "      <td>1.000000</td>\n",
       "      <td>0.217764</td>\n",
       "      <td>0.189301</td>\n",
       "      <td>-0.006117</td>\n",
       "      <td>0.443066</td>\n",
       "      <td>0.820801</td>\n",
       "      <td>0.206803</td>\n",
       "    </tr>\n",
       "    <tr>\n",
       "      <th>revol_util</th>\n",
       "      <td>0.119618</td>\n",
       "      <td>0.271643</td>\n",
       "      <td>0.131901</td>\n",
       "      <td>0.034679</td>\n",
       "      <td>0.036779</td>\n",
       "      <td>0.086621</td>\n",
       "      <td>-0.145024</td>\n",
       "      <td>0.217764</td>\n",
       "      <td>1.000000</td>\n",
       "      <td>-0.114659</td>\n",
       "      <td>-0.009251</td>\n",
       "      <td>0.080609</td>\n",
       "      <td>-0.117712</td>\n",
       "      <td>0.005590</td>\n",
       "    </tr>\n",
       "    <tr>\n",
       "      <th>total_acc</th>\n",
       "      <td>0.222077</td>\n",
       "      <td>-0.039508</td>\n",
       "      <td>0.199867</td>\n",
       "      <td>0.102316</td>\n",
       "      <td>0.188636</td>\n",
       "      <td>0.106237</td>\n",
       "      <td>0.694851</td>\n",
       "      <td>0.189301</td>\n",
       "      <td>-0.114659</td>\n",
       "      <td>1.000000</td>\n",
       "      <td>0.006463</td>\n",
       "      <td>0.311269</td>\n",
       "      <td>0.255388</td>\n",
       "      <td>0.275466</td>\n",
       "    </tr>\n",
       "    <tr>\n",
       "      <th>tot_coll_amt</th>\n",
       "      <td>-0.004272</td>\n",
       "      <td>0.001130</td>\n",
       "      <td>-0.003540</td>\n",
       "      <td>-0.000564</td>\n",
       "      <td>0.001004</td>\n",
       "      <td>-0.001995</td>\n",
       "      <td>0.000070</td>\n",
       "      <td>-0.006117</td>\n",
       "      <td>-0.009251</td>\n",
       "      <td>0.006463</td>\n",
       "      <td>1.000000</td>\n",
       "      <td>-0.000332</td>\n",
       "      <td>-0.005025</td>\n",
       "      <td>0.005711</td>\n",
       "    </tr>\n",
       "    <tr>\n",
       "      <th>tot_cur_bal</th>\n",
       "      <td>0.329152</td>\n",
       "      <td>-0.091416</td>\n",
       "      <td>0.298380</td>\n",
       "      <td>0.097374</td>\n",
       "      <td>0.422622</td>\n",
       "      <td>-0.007129</td>\n",
       "      <td>0.244467</td>\n",
       "      <td>0.443066</td>\n",
       "      <td>0.080609</td>\n",
       "      <td>0.311269</td>\n",
       "      <td>-0.000332</td>\n",
       "      <td>1.000000</td>\n",
       "      <td>0.384866</td>\n",
       "      <td>0.179507</td>\n",
       "    </tr>\n",
       "    <tr>\n",
       "      <th>total_rev_hi_lim</th>\n",
       "      <td>0.312082</td>\n",
       "      <td>-0.165529</td>\n",
       "      <td>0.286871</td>\n",
       "      <td>0.076069</td>\n",
       "      <td>0.271058</td>\n",
       "      <td>0.032428</td>\n",
       "      <td>0.325176</td>\n",
       "      <td>0.820801</td>\n",
       "      <td>-0.117712</td>\n",
       "      <td>0.255388</td>\n",
       "      <td>-0.005025</td>\n",
       "      <td>0.384866</td>\n",
       "      <td>1.000000</td>\n",
       "      <td>0.217604</td>\n",
       "    </tr>\n",
       "    <tr>\n",
       "      <th>earliest_year_duration</th>\n",
       "      <td>0.169843</td>\n",
       "      <td>-0.103962</td>\n",
       "      <td>0.151243</td>\n",
       "      <td>0.219415</td>\n",
       "      <td>0.145599</td>\n",
       "      <td>0.013409</td>\n",
       "      <td>0.128388</td>\n",
       "      <td>0.206803</td>\n",
       "      <td>0.005590</td>\n",
       "      <td>0.275466</td>\n",
       "      <td>0.005711</td>\n",
       "      <td>0.179507</td>\n",
       "      <td>0.217604</td>\n",
       "      <td>1.000000</td>\n",
       "    </tr>\n",
       "  </tbody>\n",
       "</table>\n",
       "</div>"
      ],
      "text/plain": [
       "                        loan_amnt  int_rate  installment  emp_length  \\\n",
       "loan_amnt                1.000000  0.142901     0.944871    0.105411   \n",
       "int_rate                 0.142901  1.000000     0.130391    0.010706   \n",
       "installment              0.944871  0.130391     1.000000    0.089869   \n",
       "emp_length               0.105411  0.010706     0.089869    1.000000   \n",
       "annual_inc               0.335214 -0.073841     0.328583    0.063689   \n",
       "dti                      0.020170  0.078439     0.013893    0.043550   \n",
       "open_acc                 0.198904 -0.011122     0.183797    0.038506   \n",
       "revol_bal                0.337494 -0.035364     0.320021    0.087924   \n",
       "revol_util               0.119618  0.271643     0.131901    0.034679   \n",
       "total_acc                0.222077 -0.039508     0.199867    0.102316   \n",
       "tot_coll_amt            -0.004272  0.001130    -0.003540   -0.000564   \n",
       "tot_cur_bal              0.329152 -0.091416     0.298380    0.097374   \n",
       "total_rev_hi_lim         0.312082 -0.165529     0.286871    0.076069   \n",
       "earliest_year_duration   0.169843 -0.103962     0.151243    0.219415   \n",
       "\n",
       "                        annual_inc       dti  open_acc  revol_bal  revol_util  \\\n",
       "loan_amnt                 0.335214  0.020170  0.198904   0.337494    0.119618   \n",
       "int_rate                 -0.073841  0.078439 -0.011122  -0.035364    0.271643   \n",
       "installment               0.328583  0.013893  0.183797   0.320021    0.131901   \n",
       "emp_length                0.063689  0.043550  0.038506   0.087924    0.034679   \n",
       "annual_inc                1.000000 -0.086815  0.139418   0.298570    0.036779   \n",
       "dti                      -0.086815  1.000000  0.142035   0.067101    0.086621   \n",
       "open_acc                  0.139418  0.142035  1.000000   0.225833   -0.145024   \n",
       "revol_bal                 0.298570  0.067101  0.225833   1.000000    0.217764   \n",
       "revol_util                0.036779  0.086621 -0.145024   0.217764    1.000000   \n",
       "total_acc                 0.188636  0.106237  0.694851   0.189301   -0.114659   \n",
       "tot_coll_amt              0.001004 -0.001995  0.000070  -0.006117   -0.009251   \n",
       "tot_cur_bal               0.422622 -0.007129  0.244467   0.443066    0.080609   \n",
       "total_rev_hi_lim          0.271058  0.032428  0.325176   0.820801   -0.117712   \n",
       "earliest_year_duration    0.145599  0.013409  0.128388   0.206803    0.005590   \n",
       "\n",
       "                        total_acc  tot_coll_amt  tot_cur_bal  \\\n",
       "loan_amnt                0.222077     -0.004272     0.329152   \n",
       "int_rate                -0.039508      0.001130    -0.091416   \n",
       "installment              0.199867     -0.003540     0.298380   \n",
       "emp_length               0.102316     -0.000564     0.097374   \n",
       "annual_inc               0.188636      0.001004     0.422622   \n",
       "dti                      0.106237     -0.001995    -0.007129   \n",
       "open_acc                 0.694851      0.000070     0.244467   \n",
       "revol_bal                0.189301     -0.006117     0.443066   \n",
       "revol_util              -0.114659     -0.009251     0.080609   \n",
       "total_acc                1.000000      0.006463     0.311269   \n",
       "tot_coll_amt             0.006463      1.000000    -0.000332   \n",
       "tot_cur_bal              0.311269     -0.000332     1.000000   \n",
       "total_rev_hi_lim         0.255388     -0.005025     0.384866   \n",
       "earliest_year_duration   0.275466      0.005711     0.179507   \n",
       "\n",
       "                        total_rev_hi_lim  earliest_year_duration  \n",
       "loan_amnt                       0.312082                0.169843  \n",
       "int_rate                       -0.165529               -0.103962  \n",
       "installment                     0.286871                0.151243  \n",
       "emp_length                      0.076069                0.219415  \n",
       "annual_inc                      0.271058                0.145599  \n",
       "dti                             0.032428                0.013409  \n",
       "open_acc                        0.325176                0.128388  \n",
       "revol_bal                       0.820801                0.206803  \n",
       "revol_util                     -0.117712                0.005590  \n",
       "total_acc                       0.255388                0.275466  \n",
       "tot_coll_amt                   -0.005025                0.005711  \n",
       "tot_cur_bal                     0.384866                0.179507  \n",
       "total_rev_hi_lim                1.000000                0.217604  \n",
       "earliest_year_duration          0.217604                1.000000  "
      ]
     },
     "execution_count": 119,
     "metadata": {},
     "output_type": "execute_result"
    }
   ],
   "source": [
    "correlation=df.corr()\n",
    "correlation"
   ]
  },
  {
   "cell_type": "code",
   "execution_count": 41,
   "metadata": {},
   "outputs": [
    {
     "data": {
      "text/plain": [
       "MORTGAGE    429106\n",
       "RENT        342535\n",
       "OWN          84136\n",
       "Name: home_ownership, dtype: int64"
      ]
     },
     "execution_count": 41,
     "metadata": {},
     "output_type": "execute_result"
    }
   ],
   "source": [
    "# Home ownership\n",
    "df['home_ownership'].value_counts()"
   ]
  },
  {
   "cell_type": "code",
   "execution_count": 24,
   "metadata": {},
   "outputs": [],
   "source": [
    "# Other, None and any levels has very less observations. So removing it will be healthy for analysis\n",
    "remove = ['OTHER','NONE','ANY']\n",
    "df.drop(df[df['home_ownership'].isin(remove)].index,inplace=True)"
   ]
  },
  {
   "cell_type": "code",
   "execution_count": 25,
   "metadata": {},
   "outputs": [
    {
     "data": {
      "text/html": [
       "<div>\n",
       "<style scoped>\n",
       "    .dataframe tbody tr th:only-of-type {\n",
       "        vertical-align: middle;\n",
       "    }\n",
       "\n",
       "    .dataframe tbody tr th {\n",
       "        vertical-align: top;\n",
       "    }\n",
       "\n",
       "    .dataframe thead th {\n",
       "        text-align: right;\n",
       "    }\n",
       "</style>\n",
       "<table border=\"1\" class=\"dataframe\">\n",
       "  <thead>\n",
       "    <tr style=\"text-align: right;\">\n",
       "      <th>default_ind</th>\n",
       "      <th>0</th>\n",
       "      <th>1</th>\n",
       "    </tr>\n",
       "    <tr>\n",
       "      <th>delinq_2yrs</th>\n",
       "      <th></th>\n",
       "      <th></th>\n",
       "    </tr>\n",
       "  </thead>\n",
       "  <tbody>\n",
       "    <tr>\n",
       "      <th>0</th>\n",
       "      <td>654138</td>\n",
       "      <td>38391</td>\n",
       "    </tr>\n",
       "    <tr>\n",
       "      <th>1</th>\n",
       "      <td>103319</td>\n",
       "      <td>5390</td>\n",
       "    </tr>\n",
       "    <tr>\n",
       "      <th>2</th>\n",
       "      <td>30483</td>\n",
       "      <td>1587</td>\n",
       "    </tr>\n",
       "    <tr>\n",
       "      <th>3</th>\n",
       "      <td>10839</td>\n",
       "      <td>567</td>\n",
       "    </tr>\n",
       "    <tr>\n",
       "      <th>4</th>\n",
       "      <td>4851</td>\n",
       "      <td>225</td>\n",
       "    </tr>\n",
       "    <tr>\n",
       "      <th>5</th>\n",
       "      <td>2455</td>\n",
       "      <td>127</td>\n",
       "    </tr>\n",
       "    <tr>\n",
       "      <th>6</th>\n",
       "      <td>1342</td>\n",
       "      <td>57</td>\n",
       "    </tr>\n",
       "    <tr>\n",
       "      <th>7</th>\n",
       "      <td>695</td>\n",
       "      <td>37</td>\n",
       "    </tr>\n",
       "    <tr>\n",
       "      <th>8</th>\n",
       "      <td>425</td>\n",
       "      <td>13</td>\n",
       "    </tr>\n",
       "    <tr>\n",
       "      <th>9</th>\n",
       "      <td>258</td>\n",
       "      <td>11</td>\n",
       "    </tr>\n",
       "    <tr>\n",
       "      <th>10</th>\n",
       "      <td>171</td>\n",
       "      <td>8</td>\n",
       "    </tr>\n",
       "    <tr>\n",
       "      <th>11</th>\n",
       "      <td>112</td>\n",
       "      <td>4</td>\n",
       "    </tr>\n",
       "    <tr>\n",
       "      <th>12</th>\n",
       "      <td>76</td>\n",
       "      <td>11</td>\n",
       "    </tr>\n",
       "    <tr>\n",
       "      <th>13</th>\n",
       "      <td>56</td>\n",
       "      <td>1</td>\n",
       "    </tr>\n",
       "    <tr>\n",
       "      <th>14</th>\n",
       "      <td>43</td>\n",
       "      <td>1</td>\n",
       "    </tr>\n",
       "    <tr>\n",
       "      <th>15</th>\n",
       "      <td>25</td>\n",
       "      <td>1</td>\n",
       "    </tr>\n",
       "    <tr>\n",
       "      <th>16</th>\n",
       "      <td>17</td>\n",
       "      <td>0</td>\n",
       "    </tr>\n",
       "    <tr>\n",
       "      <th>17</th>\n",
       "      <td>9</td>\n",
       "      <td>1</td>\n",
       "    </tr>\n",
       "    <tr>\n",
       "      <th>18</th>\n",
       "      <td>10</td>\n",
       "      <td>1</td>\n",
       "    </tr>\n",
       "    <tr>\n",
       "      <th>19</th>\n",
       "      <td>8</td>\n",
       "      <td>0</td>\n",
       "    </tr>\n",
       "    <tr>\n",
       "      <th>20</th>\n",
       "      <td>1</td>\n",
       "      <td>0</td>\n",
       "    </tr>\n",
       "    <tr>\n",
       "      <th>21</th>\n",
       "      <td>1</td>\n",
       "      <td>0</td>\n",
       "    </tr>\n",
       "    <tr>\n",
       "      <th>22</th>\n",
       "      <td>3</td>\n",
       "      <td>0</td>\n",
       "    </tr>\n",
       "    <tr>\n",
       "      <th>24</th>\n",
       "      <td>1</td>\n",
       "      <td>0</td>\n",
       "    </tr>\n",
       "    <tr>\n",
       "      <th>26</th>\n",
       "      <td>2</td>\n",
       "      <td>0</td>\n",
       "    </tr>\n",
       "    <tr>\n",
       "      <th>27</th>\n",
       "      <td>1</td>\n",
       "      <td>0</td>\n",
       "    </tr>\n",
       "    <tr>\n",
       "      <th>29</th>\n",
       "      <td>1</td>\n",
       "      <td>0</td>\n",
       "    </tr>\n",
       "    <tr>\n",
       "      <th>30</th>\n",
       "      <td>1</td>\n",
       "      <td>0</td>\n",
       "    </tr>\n",
       "    <tr>\n",
       "      <th>39</th>\n",
       "      <td>1</td>\n",
       "      <td>0</td>\n",
       "    </tr>\n",
       "  </tbody>\n",
       "</table>\n",
       "</div>"
      ],
      "text/plain": [
       "default_ind       0      1\n",
       "delinq_2yrs               \n",
       "0            654138  38391\n",
       "1            103319   5390\n",
       "2             30483   1587\n",
       "3             10839    567\n",
       "4              4851    225\n",
       "5              2455    127\n",
       "6              1342     57\n",
       "7               695     37\n",
       "8               425     13\n",
       "9               258     11\n",
       "10              171      8\n",
       "11              112      4\n",
       "12               76     11\n",
       "13               56      1\n",
       "14               43      1\n",
       "15               25      1\n",
       "16               17      0\n",
       "17                9      1\n",
       "18               10      1\n",
       "19                8      0\n",
       "20                1      0\n",
       "21                1      0\n",
       "22                3      0\n",
       "24                1      0\n",
       "26                2      0\n",
       "27                1      0\n",
       "29                1      0\n",
       "30                1      0\n",
       "39                1      0"
      ]
     },
     "execution_count": 25,
     "metadata": {},
     "output_type": "execute_result"
    }
   ],
   "source": [
    "# delinq_2yrs\n",
    "pd.crosstab(index=df['delinq_2yrs'],columns=df['default_ind'])                                "
   ]
  },
  {
   "cell_type": "code",
   "execution_count": 26,
   "metadata": {},
   "outputs": [],
   "source": [
    "# As most of the observations are falling in the 0 and 1 levels, combining rest of the levels makes our analysis better\n",
    "df.loc[df['delinq_2yrs']>1,'delinq_2yrs']='2_39Yrs'"
   ]
  },
  {
   "cell_type": "code",
   "execution_count": 27,
   "metadata": {},
   "outputs": [
    {
     "data": {
      "text/html": [
       "<div>\n",
       "<style scoped>\n",
       "    .dataframe tbody tr th:only-of-type {\n",
       "        vertical-align: middle;\n",
       "    }\n",
       "\n",
       "    .dataframe tbody tr th {\n",
       "        vertical-align: top;\n",
       "    }\n",
       "\n",
       "    .dataframe thead th {\n",
       "        text-align: right;\n",
       "    }\n",
       "</style>\n",
       "<table border=\"1\" class=\"dataframe\">\n",
       "  <thead>\n",
       "    <tr style=\"text-align: right;\">\n",
       "      <th>default_ind</th>\n",
       "      <th>0</th>\n",
       "      <th>1</th>\n",
       "    </tr>\n",
       "    <tr>\n",
       "      <th>purpose</th>\n",
       "      <th></th>\n",
       "      <th></th>\n",
       "    </tr>\n",
       "  </thead>\n",
       "  <tbody>\n",
       "    <tr>\n",
       "      <th>car</th>\n",
       "      <td>8134</td>\n",
       "      <td>457</td>\n",
       "    </tr>\n",
       "    <tr>\n",
       "      <th>credit_card</th>\n",
       "      <td>192029</td>\n",
       "      <td>8049</td>\n",
       "    </tr>\n",
       "    <tr>\n",
       "      <th>debt_consolidation</th>\n",
       "      <td>476951</td>\n",
       "      <td>28375</td>\n",
       "    </tr>\n",
       "    <tr>\n",
       "      <th>educational</th>\n",
       "      <td>267</td>\n",
       "      <td>56</td>\n",
       "    </tr>\n",
       "    <tr>\n",
       "      <th>home_improvement</th>\n",
       "      <td>47629</td>\n",
       "      <td>2314</td>\n",
       "    </tr>\n",
       "    <tr>\n",
       "      <th>house</th>\n",
       "      <td>3219</td>\n",
       "      <td>293</td>\n",
       "    </tr>\n",
       "    <tr>\n",
       "      <th>major_purchase</th>\n",
       "      <td>15692</td>\n",
       "      <td>888</td>\n",
       "    </tr>\n",
       "    <tr>\n",
       "      <th>medical</th>\n",
       "      <td>7606</td>\n",
       "      <td>584</td>\n",
       "    </tr>\n",
       "    <tr>\n",
       "      <th>moving</th>\n",
       "      <td>4724</td>\n",
       "      <td>435</td>\n",
       "    </tr>\n",
       "    <tr>\n",
       "      <th>other</th>\n",
       "      <td>37933</td>\n",
       "      <td>2999</td>\n",
       "    </tr>\n",
       "    <tr>\n",
       "      <th>renewable_energy</th>\n",
       "      <td>494</td>\n",
       "      <td>54</td>\n",
       "    </tr>\n",
       "    <tr>\n",
       "      <th>small_business</th>\n",
       "      <td>8388</td>\n",
       "      <td>1386</td>\n",
       "    </tr>\n",
       "    <tr>\n",
       "      <th>vacation</th>\n",
       "      <td>4264</td>\n",
       "      <td>278</td>\n",
       "    </tr>\n",
       "    <tr>\n",
       "      <th>wedding</th>\n",
       "      <td>2014</td>\n",
       "      <td>265</td>\n",
       "    </tr>\n",
       "  </tbody>\n",
       "</table>\n",
       "</div>"
      ],
      "text/plain": [
       "default_ind              0      1\n",
       "purpose                          \n",
       "car                   8134    457\n",
       "credit_card         192029   8049\n",
       "debt_consolidation  476951  28375\n",
       "educational            267     56\n",
       "home_improvement     47629   2314\n",
       "house                 3219    293\n",
       "major_purchase       15692    888\n",
       "medical               7606    584\n",
       "moving                4724    435\n",
       "other                37933   2999\n",
       "renewable_energy       494     54\n",
       "small_business        8388   1386\n",
       "vacation              4264    278\n",
       "wedding               2014    265"
      ]
     },
     "execution_count": 27,
     "metadata": {},
     "output_type": "execute_result"
    }
   ],
   "source": [
    "# purpose\n",
    "pd.crosstab(index=df['purpose'],columns=df['default_ind'])"
   ]
  },
  {
   "cell_type": "code",
   "execution_count": 28,
   "metadata": {},
   "outputs": [
    {
     "data": {
      "text/plain": [
       "debt_consolidation    505326\n",
       "credit_card           200078\n",
       "home_improvement       49943\n",
       "sub_cat                42918\n",
       "other                  40932\n",
       "major_purchase         16580\n",
       "Name: purpose, dtype: int64"
      ]
     },
     "execution_count": 28,
     "metadata": {},
     "output_type": "execute_result"
    }
   ],
   "source": [
    "# combine the levesl with fewer observations\n",
    "df['purpose'] = df['purpose'].replace({'car':'sub_cat','moving':'sub_cat','vacation':'sub_cat','house':'sub_cat','wedding':'sub_cat','renewable_energy':'sub_cat','educational':'sub_cat','small_business':'sub_cat',\n",
    "                                                             'medical':'sub_cat'})\n",
    "df['purpose'].value_counts()"
   ]
  },
  {
   "cell_type": "code",
   "execution_count": 29,
   "metadata": {},
   "outputs": [
    {
     "data": {
      "text/html": [
       "<div>\n",
       "<style scoped>\n",
       "    .dataframe tbody tr th:only-of-type {\n",
       "        vertical-align: middle;\n",
       "    }\n",
       "\n",
       "    .dataframe tbody tr th {\n",
       "        vertical-align: top;\n",
       "    }\n",
       "\n",
       "    .dataframe thead th {\n",
       "        text-align: right;\n",
       "    }\n",
       "</style>\n",
       "<table border=\"1\" class=\"dataframe\">\n",
       "  <thead>\n",
       "    <tr style=\"text-align: right;\">\n",
       "      <th>default_ind</th>\n",
       "      <th>0</th>\n",
       "      <th>1</th>\n",
       "    </tr>\n",
       "    <tr>\n",
       "      <th>inq_last_6mths</th>\n",
       "      <th></th>\n",
       "      <th></th>\n",
       "    </tr>\n",
       "  </thead>\n",
       "  <tbody>\n",
       "    <tr>\n",
       "      <th>0</th>\n",
       "      <td>462354</td>\n",
       "      <td>20222</td>\n",
       "    </tr>\n",
       "    <tr>\n",
       "      <th>1</th>\n",
       "      <td>219038</td>\n",
       "      <td>13885</td>\n",
       "    </tr>\n",
       "    <tr>\n",
       "      <th>2</th>\n",
       "      <td>83158</td>\n",
       "      <td>7294</td>\n",
       "    </tr>\n",
       "    <tr>\n",
       "      <th>3</th>\n",
       "      <td>32156</td>\n",
       "      <td>3730</td>\n",
       "    </tr>\n",
       "    <tr>\n",
       "      <th>4</th>\n",
       "      <td>8754</td>\n",
       "      <td>835</td>\n",
       "    </tr>\n",
       "    <tr>\n",
       "      <th>5</th>\n",
       "      <td>3051</td>\n",
       "      <td>308</td>\n",
       "    </tr>\n",
       "    <tr>\n",
       "      <th>6</th>\n",
       "      <td>779</td>\n",
       "      <td>143</td>\n",
       "    </tr>\n",
       "    <tr>\n",
       "      <th>7</th>\n",
       "      <td>36</td>\n",
       "      <td>12</td>\n",
       "    </tr>\n",
       "    <tr>\n",
       "      <th>8</th>\n",
       "      <td>18</td>\n",
       "      <td>4</td>\n",
       "    </tr>\n",
       "  </tbody>\n",
       "</table>\n",
       "</div>"
      ],
      "text/plain": [
       "default_ind          0      1\n",
       "inq_last_6mths               \n",
       "0               462354  20222\n",
       "1               219038  13885\n",
       "2                83158   7294\n",
       "3                32156   3730\n",
       "4                 8754    835\n",
       "5                 3051    308\n",
       "6                  779    143\n",
       "7                   36     12\n",
       "8                   18      4"
      ]
     },
     "execution_count": 29,
     "metadata": {},
     "output_type": "execute_result"
    }
   ],
   "source": [
    "# inq_last_6mths\n",
    "pd.crosstab(index=df['inq_last_6mths'],columns=df['default_ind'])                                "
   ]
  },
  {
   "cell_type": "code",
   "execution_count": 30,
   "metadata": {},
   "outputs": [
    {
     "data": {
      "text/plain": [
       "0      482576\n",
       "1      232923\n",
       "2       90452\n",
       "3_8     49826\n",
       "Name: inq_last_6mths, dtype: int64"
      ]
     },
     "execution_count": 30,
     "metadata": {},
     "output_type": "execute_result"
    }
   ],
   "source": [
    "# combine the levels which has less observations\n",
    "df.loc[df['inq_last_6mths']>2,'inq_last_6mths']='3_8'\n",
    "df['inq_last_6mths'].value_counts()"
   ]
  },
  {
   "cell_type": "code",
   "execution_count": 31,
   "metadata": {},
   "outputs": [
    {
     "data": {
      "text/html": [
       "<div>\n",
       "<style scoped>\n",
       "    .dataframe tbody tr th:only-of-type {\n",
       "        vertical-align: middle;\n",
       "    }\n",
       "\n",
       "    .dataframe tbody tr th {\n",
       "        vertical-align: top;\n",
       "    }\n",
       "\n",
       "    .dataframe thead th {\n",
       "        text-align: right;\n",
       "    }\n",
       "</style>\n",
       "<table border=\"1\" class=\"dataframe\">\n",
       "  <thead>\n",
       "    <tr style=\"text-align: right;\">\n",
       "      <th>default_ind</th>\n",
       "      <th>0</th>\n",
       "      <th>1</th>\n",
       "    </tr>\n",
       "    <tr>\n",
       "      <th>pub_rec</th>\n",
       "      <th></th>\n",
       "      <th></th>\n",
       "    </tr>\n",
       "  </thead>\n",
       "  <tbody>\n",
       "    <tr>\n",
       "      <th>0</th>\n",
       "      <td>684568</td>\n",
       "      <td>40699</td>\n",
       "    </tr>\n",
       "    <tr>\n",
       "      <th>1</th>\n",
       "      <td>103898</td>\n",
       "      <td>5018</td>\n",
       "    </tr>\n",
       "    <tr>\n",
       "      <th>2</th>\n",
       "      <td>13744</td>\n",
       "      <td>506</td>\n",
       "    </tr>\n",
       "    <tr>\n",
       "      <th>3</th>\n",
       "      <td>4184</td>\n",
       "      <td>121</td>\n",
       "    </tr>\n",
       "    <tr>\n",
       "      <th>4</th>\n",
       "      <td>1450</td>\n",
       "      <td>46</td>\n",
       "    </tr>\n",
       "    <tr>\n",
       "      <th>5</th>\n",
       "      <td>702</td>\n",
       "      <td>26</td>\n",
       "    </tr>\n",
       "    <tr>\n",
       "      <th>6</th>\n",
       "      <td>357</td>\n",
       "      <td>9</td>\n",
       "    </tr>\n",
       "    <tr>\n",
       "      <th>7</th>\n",
       "      <td>162</td>\n",
       "      <td>5</td>\n",
       "    </tr>\n",
       "    <tr>\n",
       "      <th>8</th>\n",
       "      <td>110</td>\n",
       "      <td>0</td>\n",
       "    </tr>\n",
       "    <tr>\n",
       "      <th>9</th>\n",
       "      <td>44</td>\n",
       "      <td>2</td>\n",
       "    </tr>\n",
       "    <tr>\n",
       "      <th>10</th>\n",
       "      <td>41</td>\n",
       "      <td>0</td>\n",
       "    </tr>\n",
       "    <tr>\n",
       "      <th>11</th>\n",
       "      <td>21</td>\n",
       "      <td>0</td>\n",
       "    </tr>\n",
       "    <tr>\n",
       "      <th>12</th>\n",
       "      <td>13</td>\n",
       "      <td>1</td>\n",
       "    </tr>\n",
       "    <tr>\n",
       "      <th>13</th>\n",
       "      <td>12</td>\n",
       "      <td>0</td>\n",
       "    </tr>\n",
       "    <tr>\n",
       "      <th>14</th>\n",
       "      <td>2</td>\n",
       "      <td>0</td>\n",
       "    </tr>\n",
       "    <tr>\n",
       "      <th>15</th>\n",
       "      <td>6</td>\n",
       "      <td>0</td>\n",
       "    </tr>\n",
       "    <tr>\n",
       "      <th>16</th>\n",
       "      <td>5</td>\n",
       "      <td>0</td>\n",
       "    </tr>\n",
       "    <tr>\n",
       "      <th>17</th>\n",
       "      <td>3</td>\n",
       "      <td>0</td>\n",
       "    </tr>\n",
       "    <tr>\n",
       "      <th>18</th>\n",
       "      <td>5</td>\n",
       "      <td>0</td>\n",
       "    </tr>\n",
       "    <tr>\n",
       "      <th>19</th>\n",
       "      <td>2</td>\n",
       "      <td>0</td>\n",
       "    </tr>\n",
       "    <tr>\n",
       "      <th>21</th>\n",
       "      <td>4</td>\n",
       "      <td>0</td>\n",
       "    </tr>\n",
       "    <tr>\n",
       "      <th>22</th>\n",
       "      <td>1</td>\n",
       "      <td>0</td>\n",
       "    </tr>\n",
       "    <tr>\n",
       "      <th>23</th>\n",
       "      <td>1</td>\n",
       "      <td>0</td>\n",
       "    </tr>\n",
       "    <tr>\n",
       "      <th>26</th>\n",
       "      <td>1</td>\n",
       "      <td>0</td>\n",
       "    </tr>\n",
       "    <tr>\n",
       "      <th>28</th>\n",
       "      <td>1</td>\n",
       "      <td>0</td>\n",
       "    </tr>\n",
       "    <tr>\n",
       "      <th>34</th>\n",
       "      <td>1</td>\n",
       "      <td>0</td>\n",
       "    </tr>\n",
       "    <tr>\n",
       "      <th>40</th>\n",
       "      <td>1</td>\n",
       "      <td>0</td>\n",
       "    </tr>\n",
       "    <tr>\n",
       "      <th>49</th>\n",
       "      <td>2</td>\n",
       "      <td>0</td>\n",
       "    </tr>\n",
       "    <tr>\n",
       "      <th>54</th>\n",
       "      <td>1</td>\n",
       "      <td>0</td>\n",
       "    </tr>\n",
       "    <tr>\n",
       "      <th>63</th>\n",
       "      <td>1</td>\n",
       "      <td>0</td>\n",
       "    </tr>\n",
       "    <tr>\n",
       "      <th>86</th>\n",
       "      <td>1</td>\n",
       "      <td>0</td>\n",
       "    </tr>\n",
       "  </tbody>\n",
       "</table>\n",
       "</div>"
      ],
      "text/plain": [
       "default_ind       0      1\n",
       "pub_rec                   \n",
       "0            684568  40699\n",
       "1            103898   5018\n",
       "2             13744    506\n",
       "3              4184    121\n",
       "4              1450     46\n",
       "5               702     26\n",
       "6               357      9\n",
       "7               162      5\n",
       "8               110      0\n",
       "9                44      2\n",
       "10               41      0\n",
       "11               21      0\n",
       "12               13      1\n",
       "13               12      0\n",
       "14                2      0\n",
       "15                6      0\n",
       "16                5      0\n",
       "17                3      0\n",
       "18                5      0\n",
       "19                2      0\n",
       "21                4      0\n",
       "22                1      0\n",
       "23                1      0\n",
       "26                1      0\n",
       "28                1      0\n",
       "34                1      0\n",
       "40                1      0\n",
       "49                2      0\n",
       "54                1      0\n",
       "63                1      0\n",
       "86                1      0"
      ]
     },
     "execution_count": 31,
     "metadata": {},
     "output_type": "execute_result"
    }
   ],
   "source": [
    "# pub_record\n",
    "pd.crosstab(index=df['pub_rec'],columns=df['default_ind'])                                                        "
   ]
  },
  {
   "cell_type": "code",
   "execution_count": 32,
   "metadata": {},
   "outputs": [
    {
     "data": {
      "text/plain": [
       "0       725267\n",
       "1       108916\n",
       "2_86     21594\n",
       "Name: pub_rec, dtype: int64"
      ]
     },
     "execution_count": 32,
     "metadata": {},
     "output_type": "execute_result"
    }
   ],
   "source": [
    "# combine the levels which has less observations\n",
    "df.loc[df['pub_rec']>1,'pub_rec']='2_86'\n",
    "df['pub_rec'].value_counts()"
   ]
  },
  {
   "cell_type": "code",
   "execution_count": 33,
   "metadata": {},
   "outputs": [],
   "source": [
    "# earliest creidt line\n",
    "df['earliest_year'],df['earliest_month'],df['earliest_day'] = df['earliest_cr_line'].str.split('-', 2).str                               \n",
    "                                                              \n",
    "df['earliest_year_duration']=2015 - df['earliest_year'].astype(int)"
   ]
  },
  {
   "cell_type": "code",
   "execution_count": 34,
   "metadata": {},
   "outputs": [
    {
     "data": {
      "text/html": [
       "<div>\n",
       "<style scoped>\n",
       "    .dataframe tbody tr th:only-of-type {\n",
       "        vertical-align: middle;\n",
       "    }\n",
       "\n",
       "    .dataframe tbody tr th {\n",
       "        vertical-align: top;\n",
       "    }\n",
       "\n",
       "    .dataframe thead th {\n",
       "        text-align: right;\n",
       "    }\n",
       "</style>\n",
       "<table border=\"1\" class=\"dataframe\">\n",
       "  <thead>\n",
       "    <tr style=\"text-align: right;\">\n",
       "      <th>default_ind</th>\n",
       "      <th>0</th>\n",
       "      <th>1</th>\n",
       "    </tr>\n",
       "    <tr>\n",
       "      <th>emp_length</th>\n",
       "      <th></th>\n",
       "      <th></th>\n",
       "    </tr>\n",
       "  </thead>\n",
       "  <tbody>\n",
       "    <tr>\n",
       "      <th>1 year</th>\n",
       "      <td>51781</td>\n",
       "      <td>3055</td>\n",
       "    </tr>\n",
       "    <tr>\n",
       "      <th>10+ years</th>\n",
       "      <td>268537</td>\n",
       "      <td>13498</td>\n",
       "    </tr>\n",
       "    <tr>\n",
       "      <th>2 years</th>\n",
       "      <td>71852</td>\n",
       "      <td>4116</td>\n",
       "    </tr>\n",
       "    <tr>\n",
       "      <th>3 years</th>\n",
       "      <td>63745</td>\n",
       "      <td>3632</td>\n",
       "    </tr>\n",
       "    <tr>\n",
       "      <th>4 years</th>\n",
       "      <td>47791</td>\n",
       "      <td>2841</td>\n",
       "    </tr>\n",
       "    <tr>\n",
       "      <th>5 years</th>\n",
       "      <td>50522</td>\n",
       "      <td>3278</td>\n",
       "    </tr>\n",
       "    <tr>\n",
       "      <th>6 years</th>\n",
       "      <td>38679</td>\n",
       "      <td>2755</td>\n",
       "    </tr>\n",
       "    <tr>\n",
       "      <th>7 years</th>\n",
       "      <td>40525</td>\n",
       "      <td>2672</td>\n",
       "    </tr>\n",
       "    <tr>\n",
       "      <th>8 years</th>\n",
       "      <td>40189</td>\n",
       "      <td>2227</td>\n",
       "    </tr>\n",
       "    <tr>\n",
       "      <th>9 years</th>\n",
       "      <td>31629</td>\n",
       "      <td>1826</td>\n",
       "    </tr>\n",
       "    <tr>\n",
       "      <th>&lt; 1 year</th>\n",
       "      <td>63632</td>\n",
       "      <td>3938</td>\n",
       "    </tr>\n",
       "  </tbody>\n",
       "</table>\n",
       "</div>"
      ],
      "text/plain": [
       "default_ind       0      1\n",
       "emp_length                \n",
       "1 year        51781   3055\n",
       "10+ years    268537  13498\n",
       "2 years       71852   4116\n",
       "3 years       63745   3632\n",
       "4 years       47791   2841\n",
       "5 years       50522   3278\n",
       "6 years       38679   2755\n",
       "7 years       40525   2672\n",
       "8 years       40189   2227\n",
       "9 years       31629   1826\n",
       "< 1 year      63632   3938"
      ]
     },
     "execution_count": 34,
     "metadata": {},
     "output_type": "execute_result"
    }
   ],
   "source": [
    "# emp_length\n",
    "pd.crosstab(index=df['emp_length'],columns=df['default_ind'])                                                        "
   ]
  },
  {
   "cell_type": "code",
   "execution_count": 35,
   "metadata": {},
   "outputs": [],
   "source": [
    "# map the values with numeric numbers                           \n",
    "map_dict={\"emp_length\":{'10+ years':10,'9 years':9,'8 years':8,'7 years':7,'6 years':6,'5 years':5,'4 years':4,'3 years':3,'2 years':2,'1 year':1,'< 1 year':0}}"
   ]
  },
  {
   "cell_type": "code",
   "execution_count": 36,
   "metadata": {},
   "outputs": [],
   "source": [
    "df=df.replace(map_dict)"
   ]
  },
  {
   "cell_type": "markdown",
   "metadata": {},
   "source": [
    "                                            Separate y from the dataframe"
   ]
  },
  {
   "cell_type": "code",
   "execution_count": 37,
   "metadata": {},
   "outputs": [
    {
     "data": {
      "text/html": [
       "<div>\n",
       "<style scoped>\n",
       "    .dataframe tbody tr th:only-of-type {\n",
       "        vertical-align: middle;\n",
       "    }\n",
       "\n",
       "    .dataframe tbody tr th {\n",
       "        vertical-align: top;\n",
       "    }\n",
       "\n",
       "    .dataframe thead th {\n",
       "        text-align: right;\n",
       "    }\n",
       "</style>\n",
       "<table border=\"1\" class=\"dataframe\">\n",
       "  <thead>\n",
       "    <tr style=\"text-align: right;\">\n",
       "      <th></th>\n",
       "      <th>loan_amnt</th>\n",
       "      <th>term</th>\n",
       "      <th>int_rate</th>\n",
       "      <th>installment</th>\n",
       "      <th>grade</th>\n",
       "      <th>emp_length</th>\n",
       "      <th>home_ownership</th>\n",
       "      <th>annual_inc</th>\n",
       "      <th>verification_status</th>\n",
       "      <th>issue_d</th>\n",
       "      <th>...</th>\n",
       "      <th>total_acc</th>\n",
       "      <th>initial_list_status</th>\n",
       "      <th>tot_coll_amt</th>\n",
       "      <th>tot_cur_bal</th>\n",
       "      <th>total_rev_hi_lim</th>\n",
       "      <th>default_ind</th>\n",
       "      <th>earliest_year</th>\n",
       "      <th>earliest_month</th>\n",
       "      <th>earliest_day</th>\n",
       "      <th>earliest_year_duration</th>\n",
       "    </tr>\n",
       "  </thead>\n",
       "  <tbody>\n",
       "    <tr>\n",
       "      <th>0</th>\n",
       "      <td>5000</td>\n",
       "      <td>36 months</td>\n",
       "      <td>10.65</td>\n",
       "      <td>162.87</td>\n",
       "      <td>B</td>\n",
       "      <td>10.0</td>\n",
       "      <td>RENT</td>\n",
       "      <td>24000.0</td>\n",
       "      <td>Verified</td>\n",
       "      <td>2011-12-01</td>\n",
       "      <td>...</td>\n",
       "      <td>9</td>\n",
       "      <td>f</td>\n",
       "      <td>NaN</td>\n",
       "      <td>NaN</td>\n",
       "      <td>NaN</td>\n",
       "      <td>0</td>\n",
       "      <td>1985</td>\n",
       "      <td>01</td>\n",
       "      <td>01</td>\n",
       "      <td>30</td>\n",
       "    </tr>\n",
       "    <tr>\n",
       "      <th>1</th>\n",
       "      <td>2500</td>\n",
       "      <td>60 months</td>\n",
       "      <td>15.27</td>\n",
       "      <td>59.83</td>\n",
       "      <td>C</td>\n",
       "      <td>0.0</td>\n",
       "      <td>RENT</td>\n",
       "      <td>30000.0</td>\n",
       "      <td>Source Verified</td>\n",
       "      <td>2011-12-01</td>\n",
       "      <td>...</td>\n",
       "      <td>4</td>\n",
       "      <td>f</td>\n",
       "      <td>NaN</td>\n",
       "      <td>NaN</td>\n",
       "      <td>NaN</td>\n",
       "      <td>1</td>\n",
       "      <td>1999</td>\n",
       "      <td>04</td>\n",
       "      <td>01</td>\n",
       "      <td>16</td>\n",
       "    </tr>\n",
       "    <tr>\n",
       "      <th>2</th>\n",
       "      <td>2400</td>\n",
       "      <td>36 months</td>\n",
       "      <td>15.96</td>\n",
       "      <td>84.33</td>\n",
       "      <td>C</td>\n",
       "      <td>10.0</td>\n",
       "      <td>RENT</td>\n",
       "      <td>12252.0</td>\n",
       "      <td>Not Verified</td>\n",
       "      <td>2011-12-01</td>\n",
       "      <td>...</td>\n",
       "      <td>10</td>\n",
       "      <td>f</td>\n",
       "      <td>NaN</td>\n",
       "      <td>NaN</td>\n",
       "      <td>NaN</td>\n",
       "      <td>0</td>\n",
       "      <td>2001</td>\n",
       "      <td>11</td>\n",
       "      <td>01</td>\n",
       "      <td>14</td>\n",
       "    </tr>\n",
       "    <tr>\n",
       "      <th>3</th>\n",
       "      <td>10000</td>\n",
       "      <td>36 months</td>\n",
       "      <td>13.49</td>\n",
       "      <td>339.31</td>\n",
       "      <td>C</td>\n",
       "      <td>10.0</td>\n",
       "      <td>RENT</td>\n",
       "      <td>49200.0</td>\n",
       "      <td>Source Verified</td>\n",
       "      <td>2011-12-01</td>\n",
       "      <td>...</td>\n",
       "      <td>37</td>\n",
       "      <td>f</td>\n",
       "      <td>NaN</td>\n",
       "      <td>NaN</td>\n",
       "      <td>NaN</td>\n",
       "      <td>0</td>\n",
       "      <td>1996</td>\n",
       "      <td>02</td>\n",
       "      <td>01</td>\n",
       "      <td>19</td>\n",
       "    </tr>\n",
       "    <tr>\n",
       "      <th>4</th>\n",
       "      <td>3000</td>\n",
       "      <td>60 months</td>\n",
       "      <td>12.69</td>\n",
       "      <td>67.79</td>\n",
       "      <td>B</td>\n",
       "      <td>1.0</td>\n",
       "      <td>RENT</td>\n",
       "      <td>80000.0</td>\n",
       "      <td>Source Verified</td>\n",
       "      <td>2011-12-01</td>\n",
       "      <td>...</td>\n",
       "      <td>38</td>\n",
       "      <td>f</td>\n",
       "      <td>NaN</td>\n",
       "      <td>NaN</td>\n",
       "      <td>NaN</td>\n",
       "      <td>0</td>\n",
       "      <td>1996</td>\n",
       "      <td>01</td>\n",
       "      <td>01</td>\n",
       "      <td>19</td>\n",
       "    </tr>\n",
       "  </tbody>\n",
       "</table>\n",
       "<p>5 rows × 30 columns</p>\n",
       "</div>"
      ],
      "text/plain": [
       "   loan_amnt        term  int_rate  installment grade  emp_length  \\\n",
       "0       5000   36 months     10.65       162.87     B        10.0   \n",
       "1       2500   60 months     15.27        59.83     C         0.0   \n",
       "2       2400   36 months     15.96        84.33     C        10.0   \n",
       "3      10000   36 months     13.49       339.31     C        10.0   \n",
       "4       3000   60 months     12.69        67.79     B         1.0   \n",
       "\n",
       "  home_ownership  annual_inc verification_status     issue_d  \\\n",
       "0           RENT     24000.0            Verified  2011-12-01   \n",
       "1           RENT     30000.0     Source Verified  2011-12-01   \n",
       "2           RENT     12252.0        Not Verified  2011-12-01   \n",
       "3           RENT     49200.0     Source Verified  2011-12-01   \n",
       "4           RENT     80000.0     Source Verified  2011-12-01   \n",
       "\n",
       "            ...           total_acc initial_list_status  tot_coll_amt  \\\n",
       "0           ...                   9                   f           NaN   \n",
       "1           ...                   4                   f           NaN   \n",
       "2           ...                  10                   f           NaN   \n",
       "3           ...                  37                   f           NaN   \n",
       "4           ...                  38                   f           NaN   \n",
       "\n",
       "  tot_cur_bal total_rev_hi_lim default_ind  earliest_year earliest_month  \\\n",
       "0         NaN              NaN           0           1985             01   \n",
       "1         NaN              NaN           1           1999             04   \n",
       "2         NaN              NaN           0           2001             11   \n",
       "3         NaN              NaN           0           1996             02   \n",
       "4         NaN              NaN           0           1996             01   \n",
       "\n",
       "   earliest_day  earliest_year_duration  \n",
       "0            01                      30  \n",
       "1            01                      16  \n",
       "2            01                      14  \n",
       "3            01                      19  \n",
       "4            01                      19  \n",
       "\n",
       "[5 rows x 30 columns]"
      ]
     },
     "execution_count": 37,
     "metadata": {},
     "output_type": "execute_result"
    }
   ],
   "source": [
    "df.head()"
   ]
  },
  {
   "cell_type": "code",
   "execution_count": 38,
   "metadata": {},
   "outputs": [],
   "source": [
    "data_x=df.drop('default_ind',axis=1).copy()\n",
    "data_y=df['default_ind'].copy()"
   ]
  },
  {
   "cell_type": "markdown",
   "metadata": {},
   "source": [
    "                                     Split it into train and test        "
   ]
  },
  {
   "cell_type": "code",
   "execution_count": 42,
   "metadata": {},
   "outputs": [],
   "source": [
    "# Import train_test_split function\n",
    "from sklearn.model_selection import train_test_split\n",
    "# Split dataset into training set and test set\n",
    "X_train_df, X_test_df, Y_train_df, Y_test_df = train_test_split(data_x, data_y, test_size=0.20, random_state=5) # 80% training and 20% test"
   ]
  },
  {
   "cell_type": "code",
   "execution_count": 43,
   "metadata": {},
   "outputs": [
    {
     "name": "stderr",
     "output_type": "stream",
     "text": [
      "D:\\Anaconda\\lib\\site-packages\\ipykernel_launcher.py:2: SettingWithCopyWarning: \n",
      "A value is trying to be set on a copy of a slice from a DataFrame.\n",
      "Try using .loc[row_indexer,col_indexer] = value instead\n",
      "\n",
      "See the caveats in the documentation: http://pandas.pydata.org/pandas-docs/stable/indexing.html#indexing-view-versus-copy\n",
      "  \n",
      "D:\\Anaconda\\lib\\site-packages\\ipykernel_launcher.py:3: SettingWithCopyWarning: \n",
      "A value is trying to be set on a copy of a slice from a DataFrame.\n",
      "Try using .loc[row_indexer,col_indexer] = value instead\n",
      "\n",
      "See the caveats in the documentation: http://pandas.pydata.org/pandas-docs/stable/indexing.html#indexing-view-versus-copy\n",
      "  This is separate from the ipykernel package so we can avoid doing imports until\n"
     ]
    }
   ],
   "source": [
    "# map train and test separately for future split\n",
    "X_train_df['source']='train'\n",
    "X_test_df['source']='test'"
   ]
  },
  {
   "cell_type": "code",
   "execution_count": 44,
   "metadata": {},
   "outputs": [],
   "source": [
    "full_X=pd.concat([X_train_df,X_test_df],axis=0)"
   ]
  },
  {
   "cell_type": "code",
   "execution_count": 45,
   "metadata": {},
   "outputs": [
    {
     "data": {
      "text/html": [
       "<div>\n",
       "<style scoped>\n",
       "    .dataframe tbody tr th:only-of-type {\n",
       "        vertical-align: middle;\n",
       "    }\n",
       "\n",
       "    .dataframe tbody tr th {\n",
       "        vertical-align: top;\n",
       "    }\n",
       "\n",
       "    .dataframe thead th {\n",
       "        text-align: right;\n",
       "    }\n",
       "</style>\n",
       "<table border=\"1\" class=\"dataframe\">\n",
       "  <thead>\n",
       "    <tr style=\"text-align: right;\">\n",
       "      <th></th>\n",
       "      <th>loan_amnt</th>\n",
       "      <th>term</th>\n",
       "      <th>int_rate</th>\n",
       "      <th>installment</th>\n",
       "      <th>grade</th>\n",
       "      <th>emp_length</th>\n",
       "      <th>home_ownership</th>\n",
       "      <th>annual_inc</th>\n",
       "      <th>verification_status</th>\n",
       "      <th>issue_d</th>\n",
       "      <th>...</th>\n",
       "      <th>total_acc</th>\n",
       "      <th>initial_list_status</th>\n",
       "      <th>tot_coll_amt</th>\n",
       "      <th>tot_cur_bal</th>\n",
       "      <th>total_rev_hi_lim</th>\n",
       "      <th>earliest_year</th>\n",
       "      <th>earliest_month</th>\n",
       "      <th>earliest_day</th>\n",
       "      <th>earliest_year_duration</th>\n",
       "      <th>source</th>\n",
       "    </tr>\n",
       "  </thead>\n",
       "  <tbody>\n",
       "    <tr>\n",
       "      <th>425814</th>\n",
       "      <td>10200</td>\n",
       "      <td>60 months</td>\n",
       "      <td>16.59</td>\n",
       "      <td>251.26</td>\n",
       "      <td>D</td>\n",
       "      <td>2.0</td>\n",
       "      <td>RENT</td>\n",
       "      <td>50000.0</td>\n",
       "      <td>Source Verified</td>\n",
       "      <td>2014-03-01</td>\n",
       "      <td>...</td>\n",
       "      <td>32</td>\n",
       "      <td>f</td>\n",
       "      <td>0.0</td>\n",
       "      <td>65162.0</td>\n",
       "      <td>11100.0</td>\n",
       "      <td>2002</td>\n",
       "      <td>09</td>\n",
       "      <td>01</td>\n",
       "      <td>13</td>\n",
       "      <td>train</td>\n",
       "    </tr>\n",
       "    <tr>\n",
       "      <th>276442</th>\n",
       "      <td>15000</td>\n",
       "      <td>36 months</td>\n",
       "      <td>7.12</td>\n",
       "      <td>463.98</td>\n",
       "      <td>A</td>\n",
       "      <td>9.0</td>\n",
       "      <td>OWN</td>\n",
       "      <td>95000.0</td>\n",
       "      <td>Not Verified</td>\n",
       "      <td>2014-10-01</td>\n",
       "      <td>...</td>\n",
       "      <td>33</td>\n",
       "      <td>w</td>\n",
       "      <td>0.0</td>\n",
       "      <td>108401.0</td>\n",
       "      <td>65200.0</td>\n",
       "      <td>1996</td>\n",
       "      <td>05</td>\n",
       "      <td>01</td>\n",
       "      <td>19</td>\n",
       "      <td>train</td>\n",
       "    </tr>\n",
       "    <tr>\n",
       "      <th>271606</th>\n",
       "      <td>35000</td>\n",
       "      <td>60 months</td>\n",
       "      <td>16.29</td>\n",
       "      <td>856.54</td>\n",
       "      <td>D</td>\n",
       "      <td>10.0</td>\n",
       "      <td>MORTGAGE</td>\n",
       "      <td>106000.0</td>\n",
       "      <td>Source Verified</td>\n",
       "      <td>2014-10-01</td>\n",
       "      <td>...</td>\n",
       "      <td>28</td>\n",
       "      <td>w</td>\n",
       "      <td>0.0</td>\n",
       "      <td>182451.0</td>\n",
       "      <td>48000.0</td>\n",
       "      <td>1998</td>\n",
       "      <td>12</td>\n",
       "      <td>01</td>\n",
       "      <td>17</td>\n",
       "      <td>train</td>\n",
       "    </tr>\n",
       "    <tr>\n",
       "      <th>747470</th>\n",
       "      <td>21350</td>\n",
       "      <td>60 months</td>\n",
       "      <td>25.83</td>\n",
       "      <td>637.09</td>\n",
       "      <td>G</td>\n",
       "      <td>2.0</td>\n",
       "      <td>RENT</td>\n",
       "      <td>47000.0</td>\n",
       "      <td>Source Verified</td>\n",
       "      <td>2015-04-01</td>\n",
       "      <td>...</td>\n",
       "      <td>27</td>\n",
       "      <td>f</td>\n",
       "      <td>0.0</td>\n",
       "      <td>32847.0</td>\n",
       "      <td>31500.0</td>\n",
       "      <td>2005</td>\n",
       "      <td>11</td>\n",
       "      <td>01</td>\n",
       "      <td>10</td>\n",
       "      <td>train</td>\n",
       "    </tr>\n",
       "    <tr>\n",
       "      <th>563468</th>\n",
       "      <td>15200</td>\n",
       "      <td>36 months</td>\n",
       "      <td>20.99</td>\n",
       "      <td>572.59</td>\n",
       "      <td>E</td>\n",
       "      <td>0.0</td>\n",
       "      <td>RENT</td>\n",
       "      <td>34000.0</td>\n",
       "      <td>Not Verified</td>\n",
       "      <td>2015-10-01</td>\n",
       "      <td>...</td>\n",
       "      <td>8</td>\n",
       "      <td>w</td>\n",
       "      <td>0.0</td>\n",
       "      <td>33593.0</td>\n",
       "      <td>24700.0</td>\n",
       "      <td>2003</td>\n",
       "      <td>08</td>\n",
       "      <td>01</td>\n",
       "      <td>12</td>\n",
       "      <td>train</td>\n",
       "    </tr>\n",
       "  </tbody>\n",
       "</table>\n",
       "<p>5 rows × 30 columns</p>\n",
       "</div>"
      ],
      "text/plain": [
       "        loan_amnt        term  int_rate  installment grade  emp_length  \\\n",
       "425814      10200   60 months     16.59       251.26     D         2.0   \n",
       "276442      15000   36 months      7.12       463.98     A         9.0   \n",
       "271606      35000   60 months     16.29       856.54     D        10.0   \n",
       "747470      21350   60 months     25.83       637.09     G         2.0   \n",
       "563468      15200   36 months     20.99       572.59     E         0.0   \n",
       "\n",
       "       home_ownership  annual_inc verification_status     issue_d   ...    \\\n",
       "425814           RENT     50000.0     Source Verified  2014-03-01   ...     \n",
       "276442            OWN     95000.0        Not Verified  2014-10-01   ...     \n",
       "271606       MORTGAGE    106000.0     Source Verified  2014-10-01   ...     \n",
       "747470           RENT     47000.0     Source Verified  2015-04-01   ...     \n",
       "563468           RENT     34000.0        Not Verified  2015-10-01   ...     \n",
       "\n",
       "       total_acc initial_list_status  tot_coll_amt tot_cur_bal  \\\n",
       "425814        32                   f           0.0     65162.0   \n",
       "276442        33                   w           0.0    108401.0   \n",
       "271606        28                   w           0.0    182451.0   \n",
       "747470        27                   f           0.0     32847.0   \n",
       "563468         8                   w           0.0     33593.0   \n",
       "\n",
       "       total_rev_hi_lim earliest_year  earliest_month earliest_day  \\\n",
       "425814          11100.0          2002              09           01   \n",
       "276442          65200.0          1996              05           01   \n",
       "271606          48000.0          1998              12           01   \n",
       "747470          31500.0          2005              11           01   \n",
       "563468          24700.0          2003              08           01   \n",
       "\n",
       "        earliest_year_duration  source  \n",
       "425814                      13   train  \n",
       "276442                      19   train  \n",
       "271606                      17   train  \n",
       "747470                      10   train  \n",
       "563468                      12   train  \n",
       "\n",
       "[5 rows x 30 columns]"
      ]
     },
     "execution_count": 45,
     "metadata": {},
     "output_type": "execute_result"
    }
   ],
   "source": [
    "full_X.head()"
   ]
  },
  {
   "cell_type": "code",
   "execution_count": 46,
   "metadata": {},
   "outputs": [],
   "source": [
    "# subset for outlier correction and  missing value imputation\n",
    "Sub_train=full_X.loc[full_X['source']=='train',:]"
   ]
  },
  {
   "cell_type": "markdown",
   "metadata": {},
   "source": [
    "                                 Check the Outlier's using train set"
   ]
  },
  {
   "cell_type": "code",
   "execution_count": 48,
   "metadata": {},
   "outputs": [
    {
     "data": {
      "text/plain": [
       "array([ 800., 1400., 1700., 2000.])"
      ]
     },
     "execution_count": 48,
     "metadata": {},
     "output_type": "execute_result"
    }
   ],
   "source": [
    "np.percentile(Sub_train.loc[:,'loan_amnt'], [92,93,95,96,97,98,99,100]) \n",
    "np.percentile(Sub_train.loc[:,'loan_amnt'], [0.1,0.2,0.3,0.4,0.5,0.6,0.7,0.8]) \n",
    "\n",
    "np.percentile(Sub_train.loc[:,'int_rate'], [92,93,95,96,97,98,99,100]) \n",
    "np.percentile(Sub_train.loc[:,'int_rate'], [0.1,0.2,0.3,0.4,0.5,0.6,0.7,0.8]) \n",
    "\n",
    "np.percentile(Sub_train.loc[:,'installment'], [92,93,95,96,97,98,99,100]) \n",
    "np.percentile(Sub_train.loc[:,'installment'], [0.1,0.2,0.3,0.4,0.5,0.6,0.7,0.8]) \n",
    "\n",
    "np.percentile(Sub_train.loc[:,'annual_inc'], [92,93,95,96,97,98,99,99.5,99.7,100]) \n",
    "np.percentile(Sub_train.loc[:,'annual_inc'], [0.0000000001]) \n",
    "\n",
    "np.percentile(Sub_train.loc[:,'dti'], [99.7,99.8,99.9,100]) \n",
    "np.percentile(Sub_train.loc[:,'dti'], [0.1,0.2,0.3,0.4,0.5,0.6,0.7,0.8]) \n",
    "\n",
    "np.percentile(Sub_train.loc[:,'open_acc'], [98,99,99.5,99.7,99.9,100]) \n",
    "np.percentile(Sub_train.loc[:,'open_acc'], [0.1,0.2,0.3,0.4,0.5,0.6,0.7,0.8]) \n",
    "\n",
    "np.percentile(Sub_train.loc[:,'total_acc'], [97,98,99,99.5,99.7,99.8,99.9]) \n",
    "np.percentile(Sub_train.loc[:,'total_acc'], [0.1,0.2,0.3,0.4,0.5,0.6,0.7,0.8]) \n",
    "\n",
    "np.nanpercentile(Sub_train.loc[:,'revol_util'], [95,96,97,99,99.1,99.5,100]) \n",
    "np.nanpercentile(Sub_train.loc[:,'revol_util'], [0.1,0.2,0.3,0.4,0.5]) \n",
    "\n",
    "np.nanpercentile(Sub_train.loc[:,'revol_bal'], [95,96,97,98,98.5,99,99.1,99.4,99.6,100]) \n",
    "np.nanpercentile(Sub_train.loc[:,'revol_bal'], [0.1,0.2,0.3,0.4])\n",
    "\n",
    "\n",
    "np.nanpercentile(Sub_train.loc[:,'tot_cur_bal'], [95,96,97,98,98.5,99,99.1,99.4,99.6,100]) \n",
    "np.nanpercentile(Sub_train.loc[:,'tot_cur_bal'], [0.1,0.2,0.3,0.4]) \n",
    "\n",
    "np.nanpercentile(Sub_train.loc[:,'total_rev_hi_lim'], [95,96,97,98,98.5,99,99.1,99.4,99.6,100]) \n",
    "np.nanpercentile(Sub_train.loc[:,'total_rev_hi_lim'], [0.1,0.2,0.3,0.4])"
   ]
  },
  {
   "cell_type": "markdown",
   "metadata": {},
   "source": [
    "                                                Outlier correction for the entire data"
   ]
  },
  {
   "cell_type": "code",
   "execution_count": 49,
   "metadata": {},
   "outputs": [],
   "source": [
    "full_X.loc[full_X['annual_inc']>375000,'annual_inc']=375000 \n",
    "\n",
    "full_X.loc[full_X['open_acc']==0,'open_acc']=0.1\n",
    "full_X.loc[full_X['total_acc']==0,'total_acc']=0.1 \n",
    "\n",
    "full_X.loc[full_X['annual_inc']==0,'annual_inc']=0.1 \n",
    "\n",
    "full_X.loc[full_X['dti']>39.72,'dti']=39.72 \n",
    "\n",
    "full_X.loc[full_X['open_acc']>39,'open_acc']=39 \n",
    "\n",
    "full_X.loc[full_X['total_acc']>68,'total_acc']=68 \n",
    "\n",
    "full_X.loc[full_X['revol_util']>99.7,'revol_util']=99.7 \n",
    "\n",
    "full_X.loc[full_X['revol_bal']>97481.1,'revol_bal']=97481.1\n",
    "\n",
    "full_X.loc[full_X['tot_cur_bal']>752117.156,'revol_bal']=752117.156\n",
    "\n",
    "full_X.loc[full_X['total_rev_hi_lim']>210297.72,'revol_bal']=210297.72"
   ]
  },
  {
   "cell_type": "markdown",
   "metadata": {},
   "source": [
    "                                                       impute missing values"
   ]
  },
  {
   "cell_type": "code",
   "execution_count": 50,
   "metadata": {},
   "outputs": [
    {
     "data": {
      "text/html": [
       "<div>\n",
       "<style scoped>\n",
       "    .dataframe tbody tr th:only-of-type {\n",
       "        vertical-align: middle;\n",
       "    }\n",
       "\n",
       "    .dataframe tbody tr th {\n",
       "        vertical-align: top;\n",
       "    }\n",
       "\n",
       "    .dataframe thead th {\n",
       "        text-align: right;\n",
       "    }\n",
       "</style>\n",
       "<table border=\"1\" class=\"dataframe\">\n",
       "  <thead>\n",
       "    <tr style=\"text-align: right;\">\n",
       "      <th></th>\n",
       "      <th>loan_amnt</th>\n",
       "      <th>int_rate</th>\n",
       "      <th>installment</th>\n",
       "      <th>emp_length</th>\n",
       "      <th>annual_inc</th>\n",
       "      <th>dti</th>\n",
       "      <th>open_acc</th>\n",
       "      <th>revol_bal</th>\n",
       "      <th>revol_util</th>\n",
       "      <th>total_acc</th>\n",
       "      <th>tot_coll_amt</th>\n",
       "      <th>tot_cur_bal</th>\n",
       "      <th>total_rev_hi_lim</th>\n",
       "      <th>earliest_year_duration</th>\n",
       "    </tr>\n",
       "  </thead>\n",
       "  <tbody>\n",
       "    <tr>\n",
       "      <th>count</th>\n",
       "      <td>684621.000000</td>\n",
       "      <td>684621.000000</td>\n",
       "      <td>684621.000000</td>\n",
       "      <td>650174.000000</td>\n",
       "      <td>6.846210e+05</td>\n",
       "      <td>684621.000000</td>\n",
       "      <td>684621.000000</td>\n",
       "      <td>6.846210e+05</td>\n",
       "      <td>684267.000000</td>\n",
       "      <td>684621.000000</td>\n",
       "      <td>6.310070e+05</td>\n",
       "      <td>6.310070e+05</td>\n",
       "      <td>6.310070e+05</td>\n",
       "      <td>684621.000000</td>\n",
       "    </tr>\n",
       "    <tr>\n",
       "      <th>mean</th>\n",
       "      <td>14752.932864</td>\n",
       "      <td>13.194997</td>\n",
       "      <td>436.432773</td>\n",
       "      <td>6.018004</td>\n",
       "      <td>7.508404e+04</td>\n",
       "      <td>18.119885</td>\n",
       "      <td>11.546041</td>\n",
       "      <td>1.691142e+04</td>\n",
       "      <td>55.021469</td>\n",
       "      <td>25.275303</td>\n",
       "      <td>2.291882e+02</td>\n",
       "      <td>1.397949e+05</td>\n",
       "      <td>3.216584e+04</td>\n",
       "      <td>17.319748</td>\n",
       "    </tr>\n",
       "    <tr>\n",
       "      <th>std</th>\n",
       "      <td>8427.084079</td>\n",
       "      <td>4.367862</td>\n",
       "      <td>243.818355</td>\n",
       "      <td>3.664245</td>\n",
       "      <td>6.368867e+04</td>\n",
       "      <td>14.724589</td>\n",
       "      <td>5.306586</td>\n",
       "      <td>2.217021e+04</td>\n",
       "      <td>23.821230</td>\n",
       "      <td>11.821238</td>\n",
       "      <td>1.169031e+04</td>\n",
       "      <td>1.540779e+05</td>\n",
       "      <td>3.875880e+04</td>\n",
       "      <td>7.433065</td>\n",
       "    </tr>\n",
       "    <tr>\n",
       "      <th>min</th>\n",
       "      <td>500.000000</td>\n",
       "      <td>5.320000</td>\n",
       "      <td>15.690000</td>\n",
       "      <td>0.000000</td>\n",
       "      <td>0.000000e+00</td>\n",
       "      <td>0.000000</td>\n",
       "      <td>0.000000</td>\n",
       "      <td>0.000000e+00</td>\n",
       "      <td>0.000000</td>\n",
       "      <td>2.000000</td>\n",
       "      <td>0.000000e+00</td>\n",
       "      <td>0.000000e+00</td>\n",
       "      <td>0.000000e+00</td>\n",
       "      <td>3.000000</td>\n",
       "    </tr>\n",
       "    <tr>\n",
       "      <th>25%</th>\n",
       "      <td>8000.000000</td>\n",
       "      <td>9.990000</td>\n",
       "      <td>260.730000</td>\n",
       "      <td>3.000000</td>\n",
       "      <td>4.500000e+04</td>\n",
       "      <td>11.890000</td>\n",
       "      <td>8.000000</td>\n",
       "      <td>6.473000e+03</td>\n",
       "      <td>37.600000</td>\n",
       "      <td>17.000000</td>\n",
       "      <td>0.000000e+00</td>\n",
       "      <td>2.987900e+04</td>\n",
       "      <td>1.400000e+04</td>\n",
       "      <td>12.000000</td>\n",
       "    </tr>\n",
       "    <tr>\n",
       "      <th>50%</th>\n",
       "      <td>13000.000000</td>\n",
       "      <td>12.990000</td>\n",
       "      <td>382.550000</td>\n",
       "      <td>6.000000</td>\n",
       "      <td>6.500000e+04</td>\n",
       "      <td>17.620000</td>\n",
       "      <td>11.000000</td>\n",
       "      <td>1.191200e+04</td>\n",
       "      <td>55.900000</td>\n",
       "      <td>24.000000</td>\n",
       "      <td>0.000000e+00</td>\n",
       "      <td>8.090500e+04</td>\n",
       "      <td>2.380000e+04</td>\n",
       "      <td>16.000000</td>\n",
       "    </tr>\n",
       "    <tr>\n",
       "      <th>75%</th>\n",
       "      <td>20000.000000</td>\n",
       "      <td>15.990000</td>\n",
       "      <td>571.570000</td>\n",
       "      <td>10.000000</td>\n",
       "      <td>9.000000e+04</td>\n",
       "      <td>23.900000</td>\n",
       "      <td>14.000000</td>\n",
       "      <td>2.088000e+04</td>\n",
       "      <td>73.500000</td>\n",
       "      <td>32.000000</td>\n",
       "      <td>0.000000e+00</td>\n",
       "      <td>2.087525e+05</td>\n",
       "      <td>3.990000e+04</td>\n",
       "      <td>21.000000</td>\n",
       "    </tr>\n",
       "    <tr>\n",
       "      <th>max</th>\n",
       "      <td>35000.000000</td>\n",
       "      <td>28.990000</td>\n",
       "      <td>1445.460000</td>\n",
       "      <td>10.000000</td>\n",
       "      <td>9.500000e+06</td>\n",
       "      <td>9999.000000</td>\n",
       "      <td>79.000000</td>\n",
       "      <td>2.904836e+06</td>\n",
       "      <td>892.300000</td>\n",
       "      <td>169.000000</td>\n",
       "      <td>9.152545e+06</td>\n",
       "      <td>8.000078e+06</td>\n",
       "      <td>9.999999e+06</td>\n",
       "      <td>71.000000</td>\n",
       "    </tr>\n",
       "  </tbody>\n",
       "</table>\n",
       "</div>"
      ],
      "text/plain": [
       "           loan_amnt       int_rate    installment     emp_length  \\\n",
       "count  684621.000000  684621.000000  684621.000000  650174.000000   \n",
       "mean    14752.932864      13.194997     436.432773       6.018004   \n",
       "std      8427.084079       4.367862     243.818355       3.664245   \n",
       "min       500.000000       5.320000      15.690000       0.000000   \n",
       "25%      8000.000000       9.990000     260.730000       3.000000   \n",
       "50%     13000.000000      12.990000     382.550000       6.000000   \n",
       "75%     20000.000000      15.990000     571.570000      10.000000   \n",
       "max     35000.000000      28.990000    1445.460000      10.000000   \n",
       "\n",
       "         annual_inc            dti       open_acc     revol_bal  \\\n",
       "count  6.846210e+05  684621.000000  684621.000000  6.846210e+05   \n",
       "mean   7.508404e+04      18.119885      11.546041  1.691142e+04   \n",
       "std    6.368867e+04      14.724589       5.306586  2.217021e+04   \n",
       "min    0.000000e+00       0.000000       0.000000  0.000000e+00   \n",
       "25%    4.500000e+04      11.890000       8.000000  6.473000e+03   \n",
       "50%    6.500000e+04      17.620000      11.000000  1.191200e+04   \n",
       "75%    9.000000e+04      23.900000      14.000000  2.088000e+04   \n",
       "max    9.500000e+06    9999.000000      79.000000  2.904836e+06   \n",
       "\n",
       "          revol_util      total_acc  tot_coll_amt   tot_cur_bal  \\\n",
       "count  684267.000000  684621.000000  6.310070e+05  6.310070e+05   \n",
       "mean       55.021469      25.275303  2.291882e+02  1.397949e+05   \n",
       "std        23.821230      11.821238  1.169031e+04  1.540779e+05   \n",
       "min         0.000000       2.000000  0.000000e+00  0.000000e+00   \n",
       "25%        37.600000      17.000000  0.000000e+00  2.987900e+04   \n",
       "50%        55.900000      24.000000  0.000000e+00  8.090500e+04   \n",
       "75%        73.500000      32.000000  0.000000e+00  2.087525e+05   \n",
       "max       892.300000     169.000000  9.152545e+06  8.000078e+06   \n",
       "\n",
       "       total_rev_hi_lim  earliest_year_duration  \n",
       "count      6.310070e+05           684621.000000  \n",
       "mean       3.216584e+04               17.319748  \n",
       "std        3.875880e+04                7.433065  \n",
       "min        0.000000e+00                3.000000  \n",
       "25%        1.400000e+04               12.000000  \n",
       "50%        2.380000e+04               16.000000  \n",
       "75%        3.990000e+04               21.000000  \n",
       "max        9.999999e+06               71.000000  "
      ]
     },
     "execution_count": 50,
     "metadata": {},
     "output_type": "execute_result"
    }
   ],
   "source": [
    "mean_median=Sub_train.describe()\n",
    "mean_median"
   ]
  },
  {
   "cell_type": "code",
   "execution_count": 53,
   "metadata": {},
   "outputs": [],
   "source": [
    "full_X.revol_util.fillna(55.99,inplace=True)\n",
    "full_X.tot_cur_bal.fillna(80905,inplace=True)\n",
    "full_X.total_rev_hi_lim.fillna(23800,inplace=True)\n",
    "full_X.emp_length.fillna(6,inplace=True)"
   ]
  },
  {
   "cell_type": "markdown",
   "metadata": {},
   "source": [
    "                                                2. Feature Engineering"
   ]
  },
  {
   "cell_type": "code",
   "execution_count": 52,
   "metadata": {},
   "outputs": [],
   "source": [
    "full_X['loan_income_ratio']= full_X['loan_amnt']/full_X['annual_inc']\n",
    "full_X['non_use_acc']= full_X['total_acc'] - full_X['open_acc']"
   ]
  },
  {
   "cell_type": "code",
   "execution_count": 54,
   "metadata": {},
   "outputs": [],
   "source": [
    "# drop non-relevant columns\n",
    "to_drop=['issue_d','earliest_year','earliest_month','earliest_day','addr_state','earliest_cr_line','tot_coll_amt']\n",
    "\n",
    "full_X.drop(to_drop,axis=1,inplace=True)\n",
    "\n",
    "object_val=[x for x in full_X.dtypes.index if full_X.dtypes[x]=='object']\n",
    "object_val.remove('source')"
   ]
  },
  {
   "cell_type": "markdown",
   "metadata": {},
   "source": [
    "                                               Dummy Variable Creation"
   ]
  },
  {
   "cell_type": "code",
   "execution_count": 56,
   "metadata": {},
   "outputs": [
    {
     "data": {
      "text/plain": [
       "Index(['loan_amnt', 'int_rate', 'installment', 'emp_length', 'annual_inc',\n",
       "       'dti', 'open_acc', 'revol_bal', 'revol_util', 'total_acc',\n",
       "       'tot_cur_bal', 'total_rev_hi_lim', 'earliest_year_duration', 'source',\n",
       "       'loan_income_ratio', 'non_use_acc', 'term_ 60 months', 'grade_B',\n",
       "       'grade_C', 'grade_D', 'grade_E', 'grade_F', 'grade_G',\n",
       "       'home_ownership_OWN', 'home_ownership_RENT',\n",
       "       'verification_status_Source Verified', 'verification_status_Verified',\n",
       "       'purpose_debt_consolidation', 'purpose_home_improvement',\n",
       "       'purpose_major_purchase', 'purpose_other', 'purpose_sub_cat',\n",
       "       'delinq_2yrs_1', 'delinq_2yrs_2_39Yrs', 'inq_last_6mths_1',\n",
       "       'inq_last_6mths_2', 'inq_last_6mths_3_8', 'pub_rec_1', 'pub_rec_2_86',\n",
       "       'initial_list_status_w'],\n",
       "      dtype='object')"
      ]
     },
     "execution_count": 56,
     "metadata": {},
     "output_type": "execute_result"
    }
   ],
   "source": [
    "df_dummy = pd.DataFrame(data=full_X, columns=object_val)\n",
    "\n",
    "dummy_coded=pd.get_dummies(df_dummy,drop_first=True,dtype=float) # with K-1\n",
    "dummy_fullset=pd.concat([full_X,dummy_coded],axis=1)\n",
    "to_rem=object_val.copy()\n",
    "dummy_fullset.drop(to_rem,axis=1,inplace=True)\n",
    "dummy_fullset.columns"
   ]
  },
  {
   "cell_type": "code",
   "execution_count": 57,
   "metadata": {},
   "outputs": [
    {
     "data": {
      "text/html": [
       "<div>\n",
       "<style scoped>\n",
       "    .dataframe tbody tr th:only-of-type {\n",
       "        vertical-align: middle;\n",
       "    }\n",
       "\n",
       "    .dataframe tbody tr th {\n",
       "        vertical-align: top;\n",
       "    }\n",
       "\n",
       "    .dataframe thead th {\n",
       "        text-align: right;\n",
       "    }\n",
       "</style>\n",
       "<table border=\"1\" class=\"dataframe\">\n",
       "  <thead>\n",
       "    <tr style=\"text-align: right;\">\n",
       "      <th></th>\n",
       "      <th>term_ 60 months</th>\n",
       "      <th>grade_B</th>\n",
       "      <th>grade_C</th>\n",
       "      <th>grade_D</th>\n",
       "      <th>grade_E</th>\n",
       "      <th>grade_F</th>\n",
       "      <th>grade_G</th>\n",
       "      <th>home_ownership_OWN</th>\n",
       "      <th>home_ownership_RENT</th>\n",
       "      <th>verification_status_Source Verified</th>\n",
       "      <th>...</th>\n",
       "      <th>purpose_other</th>\n",
       "      <th>purpose_sub_cat</th>\n",
       "      <th>delinq_2yrs_1</th>\n",
       "      <th>delinq_2yrs_2_39Yrs</th>\n",
       "      <th>inq_last_6mths_1</th>\n",
       "      <th>inq_last_6mths_2</th>\n",
       "      <th>inq_last_6mths_3_8</th>\n",
       "      <th>pub_rec_1</th>\n",
       "      <th>pub_rec_2_86</th>\n",
       "      <th>initial_list_status_w</th>\n",
       "    </tr>\n",
       "  </thead>\n",
       "  <tbody>\n",
       "    <tr>\n",
       "      <th>425814</th>\n",
       "      <td>1.0</td>\n",
       "      <td>0.0</td>\n",
       "      <td>0.0</td>\n",
       "      <td>1.0</td>\n",
       "      <td>0.0</td>\n",
       "      <td>0.0</td>\n",
       "      <td>0.0</td>\n",
       "      <td>0.0</td>\n",
       "      <td>1.0</td>\n",
       "      <td>1.0</td>\n",
       "      <td>...</td>\n",
       "      <td>0.0</td>\n",
       "      <td>0.0</td>\n",
       "      <td>0.0</td>\n",
       "      <td>0.0</td>\n",
       "      <td>0.0</td>\n",
       "      <td>0.0</td>\n",
       "      <td>0.0</td>\n",
       "      <td>1.0</td>\n",
       "      <td>0.0</td>\n",
       "      <td>0.0</td>\n",
       "    </tr>\n",
       "    <tr>\n",
       "      <th>276442</th>\n",
       "      <td>0.0</td>\n",
       "      <td>0.0</td>\n",
       "      <td>0.0</td>\n",
       "      <td>0.0</td>\n",
       "      <td>0.0</td>\n",
       "      <td>0.0</td>\n",
       "      <td>0.0</td>\n",
       "      <td>1.0</td>\n",
       "      <td>0.0</td>\n",
       "      <td>0.0</td>\n",
       "      <td>...</td>\n",
       "      <td>0.0</td>\n",
       "      <td>0.0</td>\n",
       "      <td>0.0</td>\n",
       "      <td>0.0</td>\n",
       "      <td>0.0</td>\n",
       "      <td>0.0</td>\n",
       "      <td>0.0</td>\n",
       "      <td>0.0</td>\n",
       "      <td>0.0</td>\n",
       "      <td>1.0</td>\n",
       "    </tr>\n",
       "    <tr>\n",
       "      <th>271606</th>\n",
       "      <td>1.0</td>\n",
       "      <td>0.0</td>\n",
       "      <td>0.0</td>\n",
       "      <td>1.0</td>\n",
       "      <td>0.0</td>\n",
       "      <td>0.0</td>\n",
       "      <td>0.0</td>\n",
       "      <td>0.0</td>\n",
       "      <td>0.0</td>\n",
       "      <td>1.0</td>\n",
       "      <td>...</td>\n",
       "      <td>0.0</td>\n",
       "      <td>0.0</td>\n",
       "      <td>0.0</td>\n",
       "      <td>0.0</td>\n",
       "      <td>0.0</td>\n",
       "      <td>0.0</td>\n",
       "      <td>0.0</td>\n",
       "      <td>0.0</td>\n",
       "      <td>0.0</td>\n",
       "      <td>1.0</td>\n",
       "    </tr>\n",
       "    <tr>\n",
       "      <th>747470</th>\n",
       "      <td>1.0</td>\n",
       "      <td>0.0</td>\n",
       "      <td>0.0</td>\n",
       "      <td>0.0</td>\n",
       "      <td>0.0</td>\n",
       "      <td>0.0</td>\n",
       "      <td>1.0</td>\n",
       "      <td>0.0</td>\n",
       "      <td>1.0</td>\n",
       "      <td>1.0</td>\n",
       "      <td>...</td>\n",
       "      <td>0.0</td>\n",
       "      <td>0.0</td>\n",
       "      <td>0.0</td>\n",
       "      <td>0.0</td>\n",
       "      <td>1.0</td>\n",
       "      <td>0.0</td>\n",
       "      <td>0.0</td>\n",
       "      <td>0.0</td>\n",
       "      <td>0.0</td>\n",
       "      <td>0.0</td>\n",
       "    </tr>\n",
       "    <tr>\n",
       "      <th>563468</th>\n",
       "      <td>0.0</td>\n",
       "      <td>0.0</td>\n",
       "      <td>0.0</td>\n",
       "      <td>0.0</td>\n",
       "      <td>1.0</td>\n",
       "      <td>0.0</td>\n",
       "      <td>0.0</td>\n",
       "      <td>0.0</td>\n",
       "      <td>1.0</td>\n",
       "      <td>0.0</td>\n",
       "      <td>...</td>\n",
       "      <td>0.0</td>\n",
       "      <td>1.0</td>\n",
       "      <td>0.0</td>\n",
       "      <td>0.0</td>\n",
       "      <td>0.0</td>\n",
       "      <td>0.0</td>\n",
       "      <td>0.0</td>\n",
       "      <td>0.0</td>\n",
       "      <td>0.0</td>\n",
       "      <td>1.0</td>\n",
       "    </tr>\n",
       "  </tbody>\n",
       "</table>\n",
       "<p>5 rows × 24 columns</p>\n",
       "</div>"
      ],
      "text/plain": [
       "        term_ 60 months  grade_B  grade_C  grade_D  grade_E  grade_F  grade_G  \\\n",
       "425814              1.0      0.0      0.0      1.0      0.0      0.0      0.0   \n",
       "276442              0.0      0.0      0.0      0.0      0.0      0.0      0.0   \n",
       "271606              1.0      0.0      0.0      1.0      0.0      0.0      0.0   \n",
       "747470              1.0      0.0      0.0      0.0      0.0      0.0      1.0   \n",
       "563468              0.0      0.0      0.0      0.0      1.0      0.0      0.0   \n",
       "\n",
       "        home_ownership_OWN  home_ownership_RENT  \\\n",
       "425814                 0.0                  1.0   \n",
       "276442                 1.0                  0.0   \n",
       "271606                 0.0                  0.0   \n",
       "747470                 0.0                  1.0   \n",
       "563468                 0.0                  1.0   \n",
       "\n",
       "        verification_status_Source Verified          ...            \\\n",
       "425814                                  1.0          ...             \n",
       "276442                                  0.0          ...             \n",
       "271606                                  1.0          ...             \n",
       "747470                                  1.0          ...             \n",
       "563468                                  0.0          ...             \n",
       "\n",
       "        purpose_other  purpose_sub_cat  delinq_2yrs_1  delinq_2yrs_2_39Yrs  \\\n",
       "425814            0.0              0.0            0.0                  0.0   \n",
       "276442            0.0              0.0            0.0                  0.0   \n",
       "271606            0.0              0.0            0.0                  0.0   \n",
       "747470            0.0              0.0            0.0                  0.0   \n",
       "563468            0.0              1.0            0.0                  0.0   \n",
       "\n",
       "        inq_last_6mths_1  inq_last_6mths_2  inq_last_6mths_3_8  pub_rec_1  \\\n",
       "425814               0.0               0.0                 0.0        1.0   \n",
       "276442               0.0               0.0                 0.0        0.0   \n",
       "271606               0.0               0.0                 0.0        0.0   \n",
       "747470               1.0               0.0                 0.0        0.0   \n",
       "563468               0.0               0.0                 0.0        0.0   \n",
       "\n",
       "        pub_rec_2_86  initial_list_status_w  \n",
       "425814           0.0                    0.0  \n",
       "276442           0.0                    1.0  \n",
       "271606           0.0                    1.0  \n",
       "747470           0.0                    0.0  \n",
       "563468           0.0                    1.0  \n",
       "\n",
       "[5 rows x 24 columns]"
      ]
     },
     "execution_count": 57,
     "metadata": {},
     "output_type": "execute_result"
    }
   ],
   "source": [
    "dummy_coded.head()"
   ]
  },
  {
   "cell_type": "markdown",
   "metadata": {},
   "source": [
    "                                         4. Sample it into train and test set"
   ]
  },
  {
   "cell_type": "code",
   "execution_count": 58,
   "metadata": {},
   "outputs": [],
   "source": [
    "train_x=dummy_fullset.loc[dummy_fullset['source']=='train',:]\n",
    "del train_x['source']\n",
    "test_x=dummy_fullset.loc[dummy_fullset['source']=='test',:]\n",
    "del test_x['source']"
   ]
  },
  {
   "cell_type": "code",
   "execution_count": 59,
   "metadata": {},
   "outputs": [],
   "source": [
    "train_y=Y_train_df.copy().astype('int')\n",
    "test_y=Y_test_df.copy().astype('int')"
   ]
  },
  {
   "cell_type": "markdown",
   "metadata": {},
   "source": [
    "                                                   Model Building"
   ]
  },
  {
   "cell_type": "markdown",
   "metadata": {},
   "source": [
    "   1. Random Forest classifier is the first model we are going to build. To identify significant variable, we do use RF"
   ]
  },
  {
   "cell_type": "code",
   "execution_count": 60,
   "metadata": {},
   "outputs": [],
   "source": [
    "# Random Forest Classifier\n",
    "from sklearn.ensemble import RandomForestClassifier\n",
    "from sklearn.model_selection import GridSearchCV\n",
    "from sklearn.metrics import roc_curve, precision_recall_curve, auc, make_scorer, recall_score, accuracy_score, precision_score, confusion_matrix\n",
    "from sklearn import metrics\n",
    "from sklearn.metrics import classification_report"
   ]
  },
  {
   "cell_type": "code",
   "execution_count": 197,
   "metadata": {},
   "outputs": [
    {
     "data": {
      "text/plain": [
       "GridSearchCV(cv=3, error_score='raise',\n",
       "       estimator=RandomForestClassifier(bootstrap=True, class_weight='balanced',\n",
       "            criterion='entropy', max_depth=None, max_features='sqrt',\n",
       "            max_leaf_nodes=None, min_impurity_decrease=0.0,\n",
       "            min_impurity_split=None, min_samples_leaf=1,\n",
       "            min_samples_split=2, min_weight_fraction_leaf=0.0,\n",
       "            n_estimators=100, n_jobs=1, oob_score=False, random_state=123,\n",
       "            verbose=0, warm_start=False),\n",
       "       fit_params=None, iid=True, n_jobs=-1,\n",
       "       param_grid=[{'max_depth': [4, 6, 8, 10]}], pre_dispatch='2*n_jobs',\n",
       "       refit='recall_score', return_train_score='warn',\n",
       "       scoring={'recall_score': make_scorer(recall_score)}, verbose=0)"
      ]
     },
     "execution_count": 197,
     "metadata": {},
     "output_type": "execute_result"
    }
   ],
   "source": [
    "# Choosing the optimal parameter for the classifier                     \n",
    "\n",
    "param_grid = [{'max_depth':[4,6,8,10]}]\n",
    "\n",
    "scorer={'recall_score': make_scorer(recall_score)}\n",
    "\n",
    "RF = RandomForestClassifier(random_state = 123,n_estimators=100,criterion='entropy',class_weight='balanced',max_features='sqrt')\n",
    "RF_GS=GridSearchCV(RF,param_grid=param_grid,scoring=scorer,refit='recall_score',cv=3,n_jobs=-1)\n",
    "RF_GS.fit(train_x,train_y)  \n",
    "RF_GS.best_params_"
   ]
  },
  {
   "cell_type": "code",
   "execution_count": 61,
   "metadata": {},
   "outputs": [
    {
     "data": {
      "text/plain": [
       "RandomForestClassifier(bootstrap=True, class_weight='balanced',\n",
       "            criterion='entropy', max_depth=6, max_features='sqrt',\n",
       "            max_leaf_nodes=None, min_impurity_decrease=0.0,\n",
       "            min_impurity_split=None, min_samples_leaf=1,\n",
       "            min_samples_split=2, min_weight_fraction_leaf=0.0,\n",
       "            n_estimators=100, n_jobs=1, oob_score=False, random_state=123,\n",
       "            verbose=0, warm_start=False)"
      ]
     },
     "execution_count": 61,
     "metadata": {},
     "output_type": "execute_result"
    }
   ],
   "source": [
    "# Build the model with the optimal parameter\n",
    "RF_1 = RandomForestClassifier(random_state = 123,n_estimators=100,criterion='entropy',class_weight='balanced',max_depth=6,max_features='sqrt')\n",
    "RF_1.fit(train_x,train_y)"
   ]
  },
  {
   "cell_type": "code",
   "execution_count": 62,
   "metadata": {},
   "outputs": [
    {
     "data": {
      "text/plain": [
       "0.7614926987560844"
      ]
     },
     "execution_count": 62,
     "metadata": {},
     "output_type": "execute_result"
    }
   ],
   "source": [
    "# predict on test set\n",
    "pred_test_RF=RF_1.predict(test_x)\n",
    "metrics.recall_score(test_y,pred_test_RF)"
   ]
  },
  {
   "cell_type": "code",
   "execution_count": 63,
   "metadata": {},
   "outputs": [
    {
     "data": {
      "text/plain": [
       "array([[102916,  58995],\n",
       "       [  2205,   7040]], dtype=int64)"
      ]
     },
     "execution_count": 63,
     "metadata": {},
     "output_type": "execute_result"
    }
   ],
   "source": [
    "Confusion_Mat_test_RF = confusion_matrix(test_y,pred_test_RF)\n",
    "Confusion_Mat_test_RF"
   ]
  },
  {
   "cell_type": "code",
   "execution_count": 64,
   "metadata": {},
   "outputs": [
    {
     "data": {
      "text/plain": [
       "0.7543562439496612"
      ]
     },
     "execution_count": 64,
     "metadata": {},
     "output_type": "execute_result"
    }
   ],
   "source": [
    "# predict on train set\n",
    "pred_RF=RF_1.predict(train_x)\n",
    "metrics.recall_score(train_y,pred_RF) "
   ]
  },
  {
   "cell_type": "code",
   "execution_count": 65,
   "metadata": {},
   "outputs": [
    {
     "data": {
      "text/plain": [
       "array([[412093, 235340],\n",
       "       [  9135,  28053]], dtype=int64)"
      ]
     },
     "execution_count": 65,
     "metadata": {},
     "output_type": "execute_result"
    }
   ],
   "source": [
    "Confusion_Mat_RF = confusion_matrix(train_y,pred_RF)\n",
    "Confusion_Mat_RF"
   ]
  },
  {
   "cell_type": "code",
   "execution_count": 67,
   "metadata": {},
   "outputs": [
    {
     "data": {
      "text/plain": [
       "loan_amnt                              0.005283\n",
       "int_rate                               0.433346\n",
       "installment                            0.004587\n",
       "emp_length                             0.000945\n",
       "annual_inc                             0.036640\n",
       "dti                                    0.008544\n",
       "open_acc                               0.001529\n",
       "revol_bal                              0.004818\n",
       "revol_util                             0.011608\n",
       "total_acc                              0.001301\n",
       "tot_cur_bal                            0.070362\n",
       "total_rev_hi_lim                       0.084555\n",
       "earliest_year_duration                 0.003337\n",
       "loan_income_ratio                      0.022105\n",
       "non_use_acc                            0.000848\n",
       "term_ 60 months                        0.012204\n",
       "grade_B                                0.015468\n",
       "grade_C                                0.006317\n",
       "grade_D                                0.014797\n",
       "grade_E                                0.022575\n",
       "grade_F                                0.019874\n",
       "grade_G                                0.001612\n",
       "home_ownership_OWN                     0.000132\n",
       "home_ownership_RENT                    0.003703\n",
       "verification_status_Source Verified    0.005351\n",
       "verification_status_Verified           0.019319\n",
       "purpose_debt_consolidation             0.000080\n",
       "purpose_home_improvement               0.000065\n",
       "purpose_major_purchase                 0.000020\n",
       "purpose_other                          0.000336\n",
       "purpose_sub_cat                        0.002793\n",
       "delinq_2yrs_1                          0.000096\n",
       "delinq_2yrs_2_39Yrs                    0.000044\n",
       "inq_last_6mths_1                       0.000491\n",
       "inq_last_6mths_2                       0.006209\n",
       "inq_last_6mths_3_8                     0.013979\n",
       "pub_rec_1                              0.000950\n",
       "pub_rec_2_86                           0.000711\n",
       "initial_list_status_w                  0.163069\n",
       "Name: variables, dtype: float64"
      ]
     },
     "execution_count": 67,
     "metadata": {},
     "output_type": "execute_result"
    }
   ],
   "source": [
    "Var_Importance_RF= pd.Series(data=RF_1.feature_importances_,index=train_x.columns,name='variables')\n",
    "Var_Importance_RF"
   ]
  },
  {
   "cell_type": "code",
   "execution_count": 68,
   "metadata": {},
   "outputs": [],
   "source": [
    "# create the model with important predictors\n",
    "least_importance=Var_Importance_RF[Var_Importance_RF.values < 0.005].index\n",
    "train_x_1=train_x.drop(least_importance,axis=1).copy()\n",
    "test_x_1=test_x.drop(least_importance,axis=1).copy()"
   ]
  },
  {
   "cell_type": "markdown",
   "metadata": {},
   "source": [
    "                                          Random Forest Model-2 with important predictors"
   ]
  },
  {
   "cell_type": "code",
   "execution_count": 69,
   "metadata": {},
   "outputs": [],
   "source": [
    "RF_2 = RandomForestClassifier(random_state = 123,n_estimators=100,criterion='entropy',class_weight='balanced',max_depth=6,max_features='sqrt')\n",
    "RF_2=RF_2.fit(train_x_1,train_y)"
   ]
  },
  {
   "cell_type": "code",
   "execution_count": 70,
   "metadata": {},
   "outputs": [
    {
     "data": {
      "text/plain": [
       "0.7579232017306652"
      ]
     },
     "execution_count": 70,
     "metadata": {},
     "output_type": "execute_result"
    }
   ],
   "source": [
    "# predict on test set\n",
    "pred_test_RF_2=RF_2.predict(test_x_1)\n",
    "metrics.recall_score(test_y,pred_test_RF_2)"
   ]
  },
  {
   "cell_type": "code",
   "execution_count": 71,
   "metadata": {},
   "outputs": [
    {
     "data": {
      "text/plain": [
       "array([[104064,  57847],\n",
       "       [  2238,   7007]], dtype=int64)"
      ]
     },
     "execution_count": 71,
     "metadata": {},
     "output_type": "execute_result"
    }
   ],
   "source": [
    "Confusion_Mat_test_RF_2 = confusion_matrix(test_y,pred_test_RF_2)\n",
    "Confusion_Mat_test_RF_2"
   ]
  },
  {
   "cell_type": "code",
   "execution_count": 72,
   "metadata": {},
   "outputs": [
    {
     "data": {
      "text/plain": [
       "loan_amnt                              0.005371\n",
       "int_rate                               0.455404\n",
       "annual_inc                             0.034763\n",
       "dti                                    0.007863\n",
       "revol_util                             0.007608\n",
       "tot_cur_bal                            0.076725\n",
       "total_rev_hi_lim                       0.091536\n",
       "loan_income_ratio                      0.018150\n",
       "term_ 60 months                        0.013836\n",
       "grade_B                                0.016044\n",
       "grade_C                                0.007469\n",
       "grade_D                                0.015789\n",
       "grade_E                                0.018659\n",
       "grade_F                                0.016192\n",
       "verification_status_Source Verified    0.004553\n",
       "verification_status_Verified           0.020262\n",
       "inq_last_6mths_2                       0.003043\n",
       "inq_last_6mths_3_8                     0.010316\n",
       "initial_list_status_w                  0.176418\n",
       "Name: variables, dtype: float64"
      ]
     },
     "execution_count": 72,
     "metadata": {},
     "output_type": "execute_result"
    }
   ],
   "source": [
    "Var_Importance_RF_2= pd.Series(data=RF_2.feature_importances_,index=train_x_1.columns,name='variables')\n",
    "Var_Importance_RF_2"
   ]
  },
  {
   "cell_type": "code",
   "execution_count": 73,
   "metadata": {},
   "outputs": [],
   "source": [
    "# create the model with important predictors\n",
    "least_importance_2=Var_Importance_RF_2[Var_Importance_RF_2.values < 0.01].index\n",
    "train_x_2=train_x_1.drop(least_importance_2,axis=1).copy()\n",
    "test_x_2=test_x_1.drop(least_importance_2,axis=1).copy()"
   ]
  },
  {
   "cell_type": "markdown",
   "metadata": {},
   "source": [
    "                                          Random Forest Model-3 with important predictors"
   ]
  },
  {
   "cell_type": "code",
   "execution_count": 221,
   "metadata": {},
   "outputs": [],
   "source": [
    "RF_3 = RandomForestClassifier(random_state = 123,n_estimators=100,criterion='entropy',class_weight='balanced',max_depth=6,max_features='sqrt')\n",
    "RF_3=RF_3.fit(train_x_2,train_y)"
   ]
  },
  {
   "cell_type": "code",
   "execution_count": 222,
   "metadata": {},
   "outputs": [
    {
     "data": {
      "text/plain": [
       "0.7484045429962142"
      ]
     },
     "execution_count": 222,
     "metadata": {},
     "output_type": "execute_result"
    }
   ],
   "source": [
    "# predict on test set\n",
    "pred_test_RF_3=RF_3.predict(test_x_2)\n",
    "metrics.recall_score(test_y,pred_test_RF_3)"
   ]
  },
  {
   "cell_type": "code",
   "execution_count": 223,
   "metadata": {},
   "outputs": [
    {
     "data": {
      "text/plain": [
       "int_rate                        0.465265\n",
       "annual_inc                      0.036149\n",
       "tot_cur_bal                     0.078778\n",
       "total_rev_hi_lim                0.099703\n",
       "loan_income_ratio               0.019752\n",
       "term_ 60 months                 0.019382\n",
       "grade_B                         0.020158\n",
       "grade_D                         0.018620\n",
       "grade_E                         0.020593\n",
       "grade_F                         0.012905\n",
       "verification_status_Verified    0.019007\n",
       "inq_last_6mths_3_8              0.011659\n",
       "initial_list_status_w           0.178028\n",
       "Name: variables, dtype: float64"
      ]
     },
     "execution_count": 223,
     "metadata": {},
     "output_type": "execute_result"
    }
   ],
   "source": [
    "Var_Importance_RF_3= pd.Series(data=RF_3.feature_importances_,index=train_x_2.columns,name='variables')\n",
    "Var_Importance_RF_3"
   ]
  },
  {
   "cell_type": "code",
   "execution_count": 224,
   "metadata": {},
   "outputs": [],
   "source": [
    "# save the important predictors in the csv file\n",
    "Var_Importance_RF_3.to_csv('important_predictors_RF.csv')"
   ]
  },
  {
   "cell_type": "markdown",
   "metadata": {},
   "source": [
    "                                                 2. Logistic Regression"
   ]
  },
  {
   "cell_type": "code",
   "execution_count": 225,
   "metadata": {},
   "outputs": [
    {
     "name": "stdout",
     "output_type": "stream",
     "text": [
      "int_rate :  6.786595765048491\n",
      "annual_inc :  4.961495883919344\n",
      "tot_cur_bal :  2.7679643187683185\n",
      "total_rev_hi_lim :  2.0458570365232305\n",
      "loan_income_ratio :  1.0000454818573936\n",
      "term_ 60 months :  1.8120551639965685\n",
      "grade_B :  1.5327365415394858\n",
      "grade_D :  1.7557323630096882\n",
      "grade_E :  1.5680902818787963\n",
      "grade_F :  1.2828566130993477\n",
      "verification_status_Verified :  1.5762277396482505\n",
      "inq_last_6mths_3_8 :  1.0915480172758945\n",
      "initial_list_status_w :  1.8760959572138602\n"
     ]
    }
   ],
   "source": [
    "# Multi-collinearity check using VIF\n",
    "                                                                           \n",
    "from statsmodels.stats.outliers_influence import variance_inflation_factor\n",
    "\n",
    "for i in range(train_x_2.shape[1]):\n",
    "    temp_vif=variance_inflation_factor(train_x_2.values,i)\n",
    "    print(train_x_2.columns[i],\": \",temp_vif)"
   ]
  },
  {
   "cell_type": "code",
   "execution_count": 226,
   "metadata": {},
   "outputs": [
    {
     "data": {
      "text/plain": [
       "0.7079502433747972"
      ]
     },
     "execution_count": 226,
     "metadata": {},
     "output_type": "execute_result"
    }
   ],
   "source": [
    "from sklearn.linear_model import LogisticRegression                                                                              \n",
    "Log=LogisticRegression(class_weight='balanced')\n",
    "Log_M1=Log.fit(train_x_2,train_y)\n",
    "# predict on test data\n",
    "pred_test_log=Log_M1.predict(test_x_2)\n",
    "metrics.recall_score(test_y,pred_test_log)"
   ]
  },
  {
   "cell_type": "code",
   "execution_count": 227,
   "metadata": {},
   "outputs": [
    {
     "data": {
      "text/plain": [
       "array([[101848,  60063],\n",
       "       [  2700,   6545]], dtype=int64)"
      ]
     },
     "execution_count": 227,
     "metadata": {},
     "output_type": "execute_result"
    }
   ],
   "source": [
    "Confusion_Mat_Log = confusion_matrix(test_y,pred_test_log)\n",
    "Confusion_Mat_Log"
   ]
  },
  {
   "cell_type": "markdown",
   "metadata": {},
   "source": [
    "                                                     3. Decision Tree"
   ]
  },
  {
   "cell_type": "code",
   "execution_count": 74,
   "metadata": {},
   "outputs": [],
   "source": [
    "from sklearn.tree import DecisionTreeClassifier\n",
    "GS = DecisionTreeClassifier(random_state=123,class_weight='balanced',max_features='sqrt')"
   ]
  },
  {
   "cell_type": "markdown",
   "metadata": {},
   "source": [
    "                                    Choose the optimal parameter using Grid Search"
   ]
  },
  {
   "cell_type": "code",
   "execution_count": 229,
   "metadata": {},
   "outputs": [
    {
     "data": {
      "text/plain": [
       "{'max_depth': 3}"
      ]
     },
     "execution_count": 229,
     "metadata": {},
     "output_type": "execute_result"
    }
   ],
   "source": [
    "param_grid = [{'max_depth': [2,3,4,5,6]}]\n",
    "scorer={'recall_score': make_scorer(recall_score)}\n",
    "Gsearch=GridSearchCV(GS,param_grid=param_grid,scoring=scorer,refit='recall_score',cv=3)\n",
    "GS_Model = Gsearch.fit(train_x_2,train_y)\n",
    "GS_Model.best_score_\n",
    "GS_Model.best_params_"
   ]
  },
  {
   "cell_type": "markdown",
   "metadata": {},
   "source": [
    "                                     Build the model with the best parameter"
   ]
  },
  {
   "cell_type": "code",
   "execution_count": 88,
   "metadata": {},
   "outputs": [],
   "source": [
    "DT = DecisionTreeClassifier(random_state=123,class_weight='balanced',max_depth=3,max_features='sqrt')\n",
    "DT_1 = DT.fit(train_x_2,train_y)"
   ]
  },
  {
   "cell_type": "code",
   "execution_count": 89,
   "metadata": {},
   "outputs": [
    {
     "data": {
      "text/plain": [
       "0.7817198485667929"
      ]
     },
     "execution_count": 89,
     "metadata": {},
     "output_type": "execute_result"
    }
   ],
   "source": [
    "# Prediction on testset\n",
    "Test_Pred = DT_1.predict(test_x_2)\n",
    "metrics.recall_score(test_y,Test_Pred)"
   ]
  },
  {
   "cell_type": "code",
   "execution_count": 90,
   "metadata": {},
   "outputs": [
    {
     "data": {
      "text/plain": [
       "0.7706518231687641"
      ]
     },
     "execution_count": 90,
     "metadata": {},
     "output_type": "execute_result"
    }
   ],
   "source": [
    "# Prediction on trainset\n",
    "Train_Pred = DT_1.predict(train_x_2)\n",
    "metrics.recall_score(train_y,Train_Pred)"
   ]
  },
  {
   "cell_type": "code",
   "execution_count": 93,
   "metadata": {},
   "outputs": [
    {
     "data": {
      "text/plain": [
       "0.09564457855242783"
      ]
     },
     "execution_count": 93,
     "metadata": {},
     "output_type": "execute_result"
    }
   ],
   "source": [
    "# Precision\n",
    "metrics.precision_score(test_y,Test_Pred)"
   ]
  },
  {
   "cell_type": "code",
   "execution_count": 91,
   "metadata": {},
   "outputs": [
    {
     "data": {
      "text/plain": [
       "array([[93577, 68334],\n",
       "       [ 2018,  7227]], dtype=int64)"
      ]
     },
     "execution_count": 91,
     "metadata": {},
     "output_type": "execute_result"
    }
   ],
   "source": [
    "Confusion_Mat_test_DT = confusion_matrix(test_y,Test_Pred)\n",
    "Confusion_Mat_test_DT"
   ]
  },
  {
   "cell_type": "code",
   "execution_count": 92,
   "metadata": {},
   "outputs": [
    {
     "data": {
      "image/png": "[encoded data removed]",
      "text/plain": [
       "<Figure size 432x288 with 2 Axes>"
      ]
     },
     "metadata": {},
     "output_type": "display_data"
    }
   ],
   "source": [
    "%matplotlib inline\n",
    "import seaborn as sns\n",
    "ax=plt.subplot()\n",
    "sns.heatmap(Confusion_Mat_test_DT,annot=True,ax=ax);\n",
    "# labels, title\n",
    "ax.set_xlabel('Predicted values');ax.set_ylabel('Actual Values');ax.set_title('Decision Tree Matrix')\n",
    "ax.xaxis.set_ticklabels(['Non_Default','Default']);ax.yaxis.set_ticklabels(['Default','Non_Default']);"
   ]
  },
  {
   "cell_type": "markdown",
   "metadata": {},
   "source": [
    "                                              Feature standardization\n",
    "Standardization (or Z-score normalization) is the process where the features are rescaled so that they will have the properties of a standard normal distribution with μ=0 and σ=1, where μ is the mean (average) and σ is the standard deviation from the mean."
   ]
  },
  {
   "cell_type": "code",
   "execution_count": 236,
   "metadata": {},
   "outputs": [
    {
     "data": {
      "text/plain": [
       "['int_rate',\n",
       " 'annual_inc',\n",
       " 'tot_cur_bal',\n",
       " 'total_rev_hi_lim',\n",
       " 'loan_income_ratio']"
      ]
     },
     "execution_count": 236,
     "metadata": {},
     "output_type": "execute_result"
    }
   ],
   "source": [
    "from sklearn.preprocessing import scale\n",
    "# First filter the continuous variables\n",
    "int_obj=[x for x in train_x_2.dtypes.index if train_x_2.dtypes[x]!='object']\n",
    "unwanted = {'term_ 60 months','verification_status_Verified','initial_list_status_w','inq_last_6mths_3_8','grade_B','grade_D','grade_E','grade_F'}\n",
    "int_list = [i for i in int_obj if i not in unwanted]\n",
    "int_list"
   ]
  },
  {
   "cell_type": "code",
   "execution_count": 237,
   "metadata": {},
   "outputs": [],
   "source": [
    "# copy the train and test x data frame\n",
    "X_train=train_x_2.copy()\n",
    "index_val=X_train.index\n",
    "X_test=test_x_2.copy()\n",
    "index_value=X_test.index"
   ]
  },
  {
   "cell_type": "code",
   "execution_count": 238,
   "metadata": {},
   "outputs": [],
   "source": [
    "# Apply feature standardization using scale method\n",
    "X_train_scale=scale(X_train[int_list])\n",
    "X_train_Scale_df=pd.DataFrame(data=X_train_scale,columns=int_list,index=index_val)\n",
    "\n",
    "X_test_Scale=scale(X_test[int_list])\n",
    "X_test_Scale_df=pd.DataFrame(data=X_test_Scale,columns=int_list,index=index_value)"
   ]
  },
  {
   "cell_type": "code",
   "execution_count": 239,
   "metadata": {},
   "outputs": [],
   "source": [
    "# filter without integer\n",
    "X_train_2=train_x_2.copy()\n",
    "X_train_2.drop(int_list,axis=1,inplace=True)\n",
    "X_test_2=test_x_2.copy()\n",
    "X_test_2.drop(int_list,axis=1,inplace=True)"
   ]
  },
  {
   "cell_type": "code",
   "execution_count": 240,
   "metadata": {},
   "outputs": [],
   "source": [
    "# concat both the scaled dataframe and non-continuous feature df\n",
    "X_trainset=pd.concat([X_train_2,X_train_Scale_df],axis=1)\n",
    "X_testset=pd.concat([X_test_2,X_test_Scale_df],axis=1)"
   ]
  },
  {
   "cell_type": "code",
   "execution_count": 241,
   "metadata": {},
   "outputs": [],
   "source": [
    "# concat train x and train y\n",
    "train_SVM=pd.concat([X_trainset,train_y],axis=1)"
   ]
  },
  {
   "cell_type": "code",
   "execution_count": 242,
   "metadata": {},
   "outputs": [
    {
     "data": {
      "text/plain": [
       "0    64832\n",
       "1     3630\n",
       "Name: default_ind, dtype: int64"
      ]
     },
     "execution_count": 242,
     "metadata": {},
     "output_type": "execute_result"
    }
   ],
   "source": [
    "# sampling only 10% data for training\n",
    "train_10=train_SVM.sample(frac=0.1,random_state=123)\n",
    "# split it into train and test\n",
    "Train_x_SVM=train_10.drop(['default_ind'],axis=1).copy()\n",
    "Train_y_SVM=train_10['default_ind']\n",
    "Train_y_SVM.value_counts()"
   ]
  },
  {
   "cell_type": "markdown",
   "metadata": {},
   "source": [
    "                                            4.Support Vector Machine Algorithm"
   ]
  },
  {
   "cell_type": "code",
   "execution_count": 243,
   "metadata": {},
   "outputs": [],
   "source": [
    "from sklearn.svm import SVC"
   ]
  },
  {
   "cell_type": "markdown",
   "metadata": {},
   "source": [
    "                                     Choosing the optimal parameter using Grid Search"
   ]
  },
  {
   "cell_type": "code",
   "execution_count": 249,
   "metadata": {},
   "outputs": [],
   "source": [
    "from sklearn.model_selection import GridSearchCV\n",
    "\n",
    "param_grid=[{'C':[0.001,0.1,100]}]\n",
    "scorer={'recall_score': make_scorer(recall_score)}\n",
    "\n",
    "SVM_clf=SVC(class_weight='balanced',kernel='linear')\n",
    "SVM_GS=GridSearchCV(SVM_clf,param_grid=param_grid, scoring=scorer,refit='recall_score',cv=3)\n",
    "model_GS=SVM_GS.fit(Train_x_SVM,Train_y_SVM)\n",
    "model_GS.best_score_\n",
    "model_GS.best_params_"
   ]
  },
  {
   "cell_type": "markdown",
   "metadata": {},
   "source": [
    "                                     Build the model with the optimal parameter"
   ]
  },
  {
   "cell_type": "code",
   "execution_count": 245,
   "metadata": {},
   "outputs": [],
   "source": [
    "SVM_inst=SVC(kernel='linear',class_weight='balanced',C=0.1)\n",
    "SVM_1=SVM_inst.fit(Train_x_SVM,Train_y_SVM)"
   ]
  },
  {
   "cell_type": "code",
   "execution_count": 246,
   "metadata": {},
   "outputs": [
    {
     "data": {
      "text/plain": [
       "0.7342347214710654"
      ]
     },
     "execution_count": 246,
     "metadata": {},
     "output_type": "execute_result"
    }
   ],
   "source": [
    "# predict the test set\n",
    "test_p=SVM_1.predict(X_testset)\n",
    "metrics.recall_score(test_y,test_p) "
   ]
  },
  {
   "cell_type": "code",
   "execution_count": 247,
   "metadata": {},
   "outputs": [
    {
     "data": {
      "text/plain": [
       "array([[98652, 63259],\n",
       "       [ 2457,  6788]], dtype=int64)"
      ]
     },
     "execution_count": 247,
     "metadata": {},
     "output_type": "execute_result"
    }
   ],
   "source": [
    "Con_Mat_test = confusion_matrix(test_y,test_p)\n",
    "Con_Mat_test"
   ]
  },
  {
   "cell_type": "code",
   "execution_count": 248,
   "metadata": {},
   "outputs": [
    {
     "data": {
      "text/plain": [
       "0.7261707988980717"
      ]
     },
     "execution_count": 248,
     "metadata": {},
     "output_type": "execute_result"
    }
   ],
   "source": [
    "# predict the train set\n",
    "train_p=SVM_1.predict(Train_x_SVM)\n",
    "metrics.recall_score(Train_y_SVM,train_p) "
   ]
  },
  {
   "cell_type": "markdown",
   "metadata": {},
   "source": [
    "                                    5.Adaptive Boosting with Decision Tree as base estimator"
   ]
  },
  {
   "cell_type": "code",
   "execution_count": 75,
   "metadata": {},
   "outputs": [],
   "source": [
    "from sklearn.ensemble import AdaBoostClassifier\n",
    "estimator=DecisionTreeClassifier(max_depth=3,random_state=100,class_weight='balanced')\n",
    "AB= AdaBoostClassifier(base_estimator=estimator,learning_rate=1,random_state=100)"
   ]
  },
  {
   "cell_type": "markdown",
   "metadata": {},
   "source": [
    "                                    Choosing the Optimal Parameter using Grid Search"
   ]
  },
  {
   "cell_type": "code",
   "execution_count": null,
   "metadata": {},
   "outputs": [],
   "source": [
    "paramgrid={'n_estimators':[50,75,100],'learning_rate':[0.25,0.5,0.75]}\n",
    "scorer={'recall_score': make_scorer(recall_score)}\n",
    "AdaGS=GridSearchCV(AB,param_grid=paramgrid,scoring=scorer,refit='recall_score',cv=3,n_jobs=-1)\n",
    "AdaBo_Model=AdaGS.fit(train_x_2,train_y)\n",
    "AdaBo_Model.best_params_\n",
    "AdaBo_Model.best_score_"
   ]
  },
  {
   "cell_type": "markdown",
   "metadata": {},
   "source": [
    "                                     Build the model with the optimal parameter"
   ]
  },
  {
   "cell_type": "code",
   "execution_count": 76,
   "metadata": {},
   "outputs": [
    {
     "data": {
      "text/plain": [
       "array([0.45168338, 0.08258449, 0.14374419, 0.09424994, 0.10456794,\n",
       "       0.01565447, 0.03129823, 0.0135861 , 0.00658979, 0.01408076,\n",
       "       0.01030189, 0.01064626, 0.02101255])"
      ]
     },
     "execution_count": 76,
     "metadata": {},
     "output_type": "execute_result"
    }
   ],
   "source": [
    "AB_1= AdaBoostClassifier(base_estimator=estimator,n_estimators=75,learning_rate=0.75,random_state=100)\n",
    "m1=AB_1.fit(train_x_2,train_y)\n",
    "m1.estimator_weights_\n",
    "m1.feature_importances_"
   ]
  },
  {
   "cell_type": "code",
   "execution_count": 77,
   "metadata": {},
   "outputs": [
    {
     "data": {
      "text/plain": [
       "0.7907389480477574"
      ]
     },
     "execution_count": 77,
     "metadata": {},
     "output_type": "execute_result"
    }
   ],
   "source": [
    "# predict on train set\n",
    "train_P=m1.predict(train_x_2)\n",
    "metrics.recall_score(train_y,train_P) "
   ]
  },
  {
   "cell_type": "code",
   "execution_count": 78,
   "metadata": {},
   "outputs": [
    {
     "data": {
      "text/plain": [
       "0.7838831800973499"
      ]
     },
     "execution_count": 78,
     "metadata": {},
     "output_type": "execute_result"
    }
   ],
   "source": [
    "# predict on test set\n",
    "pred_test_boost=m1.predict(test_x_2)\n",
    "metrics.recall_score(test_y,pred_test_boost)"
   ]
  },
  {
   "cell_type": "code",
   "execution_count": 95,
   "metadata": {},
   "outputs": [
    {
     "data": {
      "text/plain": [
       "0.12416049890350878"
      ]
     },
     "execution_count": 95,
     "metadata": {},
     "output_type": "execute_result"
    }
   ],
   "source": [
    "# Precision\n",
    "metrics.precision_score(test_y,pred_test_boost)"
   ]
  },
  {
   "cell_type": "code",
   "execution_count": 79,
   "metadata": {},
   "outputs": [
    {
     "data": {
      "text/plain": [
       "array([[110790,  51121],\n",
       "       [  1998,   7247]], dtype=int64)"
      ]
     },
     "execution_count": 79,
     "metadata": {},
     "output_type": "execute_result"
    }
   ],
   "source": [
    "Confus_test_boost = confusion_matrix(test_y,pred_test_boost)\n",
    "Confus_test_boost"
   ]
  },
  {
   "cell_type": "code",
   "execution_count": 80,
   "metadata": {},
   "outputs": [
    {
     "data": {
      "text/plain": [
       "0.6896457033349692"
      ]
     },
     "execution_count": 80,
     "metadata": {},
     "output_type": "execute_result"
    }
   ],
   "source": [
    "# Accuracy\n",
    "metrics.accuracy_score(test_y,pred_test_boost)"
   ]
  },
  {
   "cell_type": "code",
   "execution_count": 85,
   "metadata": {},
   "outputs": [
    {
     "data": {
      "text/plain": [
       "'             precision    recall  f1-score   support\\n\\n          0       0.98      0.68      0.81    161911\\n          1       0.12      0.78      0.21      9245\\n\\navg / total       0.94      0.69      0.77    171156\\n'"
      ]
     },
     "execution_count": 85,
     "metadata": {},
     "output_type": "execute_result"
    }
   ],
   "source": [
    "# classification report# View the performance of the Ada Boost model\n",
    "report=classification_report(test_y,pred_test_boost)\n",
    "report"
   ]
  },
  {
   "cell_type": "code",
   "execution_count": 106,
   "metadata": {},
   "outputs": [
    {
     "data": {
      "image/png": "[encoded data removed]",
      "text/plain": [
       "<Figure size 432x288 with 2 Axes>"
      ]
     },
     "metadata": {},
     "output_type": "display_data"
    }
   ],
   "source": [
    "%matplotlib inline\n",
    "import seaborn as sns\n",
    "ax=plt.subplot()\n",
    "sns.heatmap(Confus_test_boost,annot=True,ax=ax);\n",
    "# labels, title\n",
    "ax.set_xlabel('Predicted values');ax.set_ylabel('Actual Values');ax.set_title('Ada Boost Matrix')\n",
    "ax.xaxis.set_ticklabels(['Non_Default','Default']);ax.yaxis.set_ticklabels(['Non_Default','Default']);"
   ]
  },
  {
   "cell_type": "markdown",
   "metadata": {},
   "source": [
    "Confusion Matrix for Decision Tree"
   ]
  },
  {
   "cell_type": "code",
   "execution_count": 104,
   "metadata": {},
   "outputs": [
    {
     "data": {
      "image/png": "[encoded data removed]",
      "text/plain": [
       "<Figure size 432x288 with 2 Axes>"
      ]
     },
     "metadata": {},
     "output_type": "display_data"
    }
   ],
   "source": [
    "%matplotlib inline\n",
    "import seaborn as sns\n",
    "ax=plt.subplot()\n",
    "sns.heatmap(Confusion_Mat_test_DT,annot=True,ax=ax);\n",
    "# labels, title\n",
    "ax.set_xlabel('Predicted values');ax.set_ylabel('Actual Values');ax.set_title('Decision Tree Matrix')\n",
    "ax.xaxis.set_ticklabels(['Non_Default','Default']);ax.yaxis.set_ticklabels(['Non_Default','Default']);"
   ]
  },
  {
   "cell_type": "markdown",
   "metadata": {},
   "source": [
    "When comparing ada boost with decison tree model, false positive is less and better than decision tree model. So Ada Boost model is considered as the final model"
   ]
  },
  {
   "cell_type": "markdown",
   "metadata": {},
   "source": [
    "                                        Test the Generalization of Ada Boosting Model"
   ]
  },
  {
   "cell_type": "markdown",
   "metadata": {},
   "source": [
    "                                       Cross Validation on Adaptive Boosting Model"
   ]
  },
  {
   "cell_type": "code",
   "execution_count": 96,
   "metadata": {},
   "outputs": [
    {
     "name": "stderr",
     "output_type": "stream",
     "text": [
      "D:\\Anaconda\\lib\\site-packages\\sklearn\\cross_validation.py:41: DeprecationWarning: This module was deprecated in version 0.18 in favor of the model_selection module into which all the refactored classes and functions are moved. Also note that the interface of the new CV iterators are different from that of this module. This module will be removed in 0.20.\n",
      "  \"This module will be removed in 0.20.\", DeprecationWarning)\n"
     ]
    }
   ],
   "source": [
    "from sklearn.cross_validation import cross_val_score"
   ]
  },
  {
   "cell_type": "code",
   "execution_count": 100,
   "metadata": {},
   "outputs": [],
   "source": [
    "scorer={'recall_score': make_scorer(recall_score)}\n",
    "cross_val=cross_val_score(m1,train_x_2,train_y,cv=3,scoring='recall',n_jobs=-1)"
   ]
  },
  {
   "cell_type": "code",
   "execution_count": 102,
   "metadata": {},
   "outputs": [
    {
     "data": {
      "text/plain": [
       "array([0.77549209, 0.76952243, 0.76508551])"
      ]
     },
     "execution_count": 102,
     "metadata": {},
     "output_type": "execute_result"
    }
   ],
   "source": [
    "cross_val"
   ]
  },
  {
   "cell_type": "markdown",
   "metadata": {},
   "source": [
    "                                       View the performance of the Ada Boost model"
   ]
  },
  {
   "cell_type": "code",
   "execution_count": 107,
   "metadata": {},
   "outputs": [],
   "source": [
    "from sklearn.metrics import roc_auc_score"
   ]
  },
  {
   "cell_type": "code",
   "execution_count": 109,
   "metadata": {},
   "outputs": [
    {
     "data": {
      "text/plain": [
       "array([0.49674102, 0.50068677, 0.49775589, ..., 0.50130929, 0.49693163,\n",
       "       0.49488321])"
      ]
     },
     "execution_count": 109,
     "metadata": {},
     "output_type": "execute_result"
    }
   ],
   "source": [
    "# calculate probabilities for the test data\n",
    "test_pred_prob=m1.predict_proba(test_x_2)\n",
    "# take the second column,because the classifier outputs scores for the 0 class as well\n",
    "Pred_Y_Prob = test_pred_prob[:,1]\n",
    "Pred_Y_Prob"
   ]
  },
  {
   "cell_type": "code",
   "execution_count": 110,
   "metadata": {},
   "outputs": [
    {
     "data": {
      "text/plain": [
       "0.8068277152670181"
      ]
     },
     "execution_count": 110,
     "metadata": {},
     "output_type": "execute_result"
    }
   ],
   "source": [
    "# For auc value\n",
    "ada_roc_auc=roc_auc_score(test_y,Pred_Y_Prob)\n",
    "ada_roc_auc"
   ]
  },
  {
   "cell_type": "code",
   "execution_count": 111,
   "metadata": {},
   "outputs": [],
   "source": [
    "# For ROC curve\n",
    "fpr,tpr,thresholds=roc_curve(test_y,Pred_Y_Prob)"
   ]
  },
  {
   "cell_type": "code",
   "execution_count": 112,
   "metadata": {},
   "outputs": [
    {
     "data": {
      "image/png": "[encoded data removed]",
      "text/plain": [
       "<Figure size 432x288 with 1 Axes>"
      ]
     },
     "metadata": {},
     "output_type": "display_data"
    }
   ],
   "source": [
    "# ROC Curve plot\n",
    "%matplotlib inline\n",
    "plt.figure()\n",
    "plt.plot(fpr,tpr,label='ada_boost(area=%0.2f)'% ada_roc_auc)\n",
    "plt.plot([0,1],[0,1],'r--')\n",
    "plt.xlim([0.0,1.0])\n",
    "plt.ylim([0.0,1.05])\n",
    "plt.xlabel('False Positive Rate')\n",
    "plt.ylabel('True Positive Rate')\n",
    "plt.title('Receiver Operating Characteristic')\n",
    "plt.legend(loc=\"lower right\")\n",
    "plt.savefig('ada_roc')\n",
    "plt.show()"
   ]
  },
  {
   "cell_type": "code",
   "execution_count": 113,
   "metadata": {},
   "outputs": [
    {
     "data": {
      "text/plain": [
       "0.4997228550074023"
      ]
     },
     "execution_count": 113,
     "metadata": {},
     "output_type": "execute_result"
    }
   ],
   "source": [
    "# Optimal Cut-off point\n",
    "optimal_idx = np.argmax(tpr - fpr)\n",
    "optimal_threshold = thresholds[optimal_idx]\n",
    "optimal_threshold"
   ]
  },
  {
   "cell_type": "code",
   "execution_count": 114,
   "metadata": {},
   "outputs": [
    {
     "data": {
      "text/plain": [
       "0.9874526771227691"
      ]
     },
     "execution_count": 114,
     "metadata": {},
     "output_type": "execute_result"
    }
   ],
   "source": [
    "# predict using the optimal cut-off point\n",
    "optimal_val=pd.DataFrame({'default':Pred_Y_Prob})\n",
    "optimal_val['default_class']=optimal_val['default']\n",
    "optimal_val.default_class=np.where(optimal_val.default_class >0.49,1,0)\n",
    "# Recall\n",
    "metrics.recall_score(test_y,optimal_val['default_class']) "
   ]
  },
  {
   "cell_type": "code",
   "execution_count": 115,
   "metadata": {},
   "outputs": [
    {
     "data": {
      "text/plain": [
       "0.2683283086774638"
      ]
     },
     "execution_count": 115,
     "metadata": {},
     "output_type": "execute_result"
    }
   ],
   "source": [
    "metrics.accuracy_score(test_y,optimal_val['default_class'])"
   ]
  },
  {
   "cell_type": "markdown",
   "metadata": {},
   "source": [
    "Confus_Matrix = confusion_matrix(test_y,optimal_val['default_class'])\n",
    "Confus_Matrix"
   ]
  },
  {
   "cell_type": "markdown",
   "metadata": {},
   "source": [
    "ROC curve and thresholds mis-leads, when the dataset is highly skewed. So, it is not considered for the analysis."
   ]
  },
  {
   "cell_type": "markdown",
   "metadata": {},
   "source": [
    "                                       Saving the final AdaBoost_Tree Model using pickle"
   ]
  },
  {
   "cell_type": "markdown",
   "metadata": {},
   "source": [
    "pickle is the standard way of serializing objects in Python. You can use the pickle operation to serialize your machine learning algorithms and save the serialized format to a file. Later you can load this file to deserialize your model and use it to make new predictions."
   ]
  },
  {
   "cell_type": "code",
   "execution_count": 117,
   "metadata": {},
   "outputs": [],
   "source": [
    "import pickle\n",
    "filename='finalized_AdaBoost_Tree_model.sav'\n",
    "pickle.dump(m1,open(filename,'wb'))"
   ]
  },
  {
   "cell_type": "code",
   "execution_count": 118,
   "metadata": {},
   "outputs": [],
   "source": [
    "# load the model\n",
    "loaded_model_ADB_DT_1=pickle.load(open('finalized_AdaBoost_Tree_model.sav','rb'))\n",
    "result=loaded_model_ADB_DT_1.predict(test_x_2) "
   ]
  },
  {
   "cell_type": "markdown",
   "metadata": {},
   "source": [
    "                                                  Conclusion"
   ]
  },
  {
   "cell_type": "markdown",
   "metadata": {},
   "source": [
    "Among 171156 test data, 7247 defaulters are correctly identified by the Adaptive Boost Model. One bad loan can take almost all of the profit received from the good loans. So, this model will correctly predict the non-defaulter's even though the dataset is higly skewed."
   ]
  },
  {
   "cell_type": "markdown",
   "metadata": {},
   "source": [
    "                                                  Suggestion"
   ]
  },
  {
   "cell_type": "markdown",
   "metadata": {},
   "source": [
    "Not all default cases are the same, and some late payments could still be recovered later on, so instead of a binary classification, multinomial predictions could be employed to take into account the different types of default so as to make a more granular prediction. "
   ]
  }
 ],
 "metadata": {
  "kernelspec": {
   "display_name": "Python 3",
   "language": "python",
   "name": "python3"
  },
  "language_info": {
   "codemirror_mode": {
    "name": "ipython",
    "version": 3
   },
   "file_extension": ".py",
   "mimetype": "text/x-python",
   "name": "python",
   "nbconvert_exporter": "python",
   "pygments_lexer": "ipython3",
   "version": "3.6.5"
  }
 },
 "nbformat": 4,
 "nbformat_minor": 2
}
